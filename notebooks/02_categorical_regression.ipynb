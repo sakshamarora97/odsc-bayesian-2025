{
  "cells": [
    {
      "cell_type": "markdown",
      "id": "0c6e9b43",
      "metadata": {
        "id": "0c6e9b43"
      },
      "source": [
        "# Categorical Regression\n",
        "\n",
        "This notebook is part of a tutorial on \"Practical Bayesian Modeling with PyMC\""
      ]
    },
    {
      "cell_type": "markdown",
      "id": "48c2f26e",
      "metadata": {
        "id": "48c2f26e"
      },
      "source": [
        "[Click here to run this notebook on Colab](https://colab.research.google.com/github/AllenDowney/SurveyDataPyMC/blob/main/notebooks/02_categorical_regression.ipynb)"
      ]
    },
    {
      "cell_type": "code",
      "execution_count": 1,
      "id": "e4548a47",
      "metadata": {
        "id": "e4548a47"
      },
      "outputs": [],
      "source": [
        "%load_ext autoreload\n",
        "%autoreload 2"
      ]
    },
    {
      "cell_type": "code",
      "execution_count": 2,
      "id": "fce89fc0",
      "metadata": {
        "colab": {
          "base_uri": "https://localhost:8080/"
        },
        "id": "fce89fc0",
        "outputId": "9013ee28-dc9e-4802-b9dc-9bf6c58ab0c9"
      },
      "outputs": [
        {
          "output_type": "stream",
          "name": "stdout",
          "text": [
            "Downloaded utils.py\n"
          ]
        }
      ],
      "source": [
        "# Get utils.py\n",
        "\n",
        "from os.path import basename, exists\n",
        "\n",
        "def download(url):\n",
        "    filename = basename(url)\n",
        "    if not exists(filename):\n",
        "        from urllib.request import urlretrieve\n",
        "\n",
        "        local, _ = urlretrieve(url, filename)\n",
        "        print(\"Downloaded \" + local)\n",
        "\n",
        "download(\"https://github.com/AllenDowney/SurveyDataPyMC/raw/main/notebooks/utils.py\")"
      ]
    },
    {
      "cell_type": "code",
      "execution_count": 3,
      "id": "f24d9f87",
      "metadata": {
        "id": "f24d9f87"
      },
      "outputs": [],
      "source": [
        "import matplotlib.pyplot as plt\n",
        "import numpy as np\n",
        "import pandas as pd\n",
        "import pymc as pm\n",
        "import arviz as az\n",
        "\n",
        "from utils import value_counts, decorate, load_idata_or_sample"
      ]
    },
    {
      "cell_type": "code",
      "execution_count": 4,
      "id": "860f08d5",
      "metadata": {
        "id": "860f08d5"
      },
      "outputs": [],
      "source": [
        "# Make the figures smaller to save some screen real estate\n",
        "plt.rcParams[\"figure.dpi\"] = 75\n",
        "plt.rcParams[\"figure.figsize\"] = [6, 3.5]\n",
        "plt.rcParams[\"axes.titlelocation\"] = \"left\""
      ]
    },
    {
      "cell_type": "markdown",
      "id": "f6d12ba9",
      "metadata": {
        "id": "f6d12ba9"
      },
      "source": [
        "## Data\n",
        "\n",
        "The dataset we'll use is an extract from the General Social Survey.\n",
        "The following cell downloads it."
      ]
    },
    {
      "cell_type": "code",
      "execution_count": 5,
      "id": "0ad453fb",
      "metadata": {
        "colab": {
          "base_uri": "https://localhost:8080/"
        },
        "id": "0ad453fb",
        "outputId": "386a56df-4dac-4b3b-d59e-e4457f9e35df"
      },
      "outputs": [
        {
          "output_type": "stream",
          "name": "stdout",
          "text": [
            "Downloaded gss_extract_2022_4.hdf\n"
          ]
        }
      ],
      "source": [
        "# This dataset is prepared in GssExtract/notebooks/02_make_extract-2022_4.ipynb\n",
        "# It has been resampled to correct for stratified sampling\n",
        "\n",
        "DATA_PATH = \"https://github.com/AllenDowney/GssExtract/raw/main/data/interim/\"\n",
        "filename = \"gss_extract_2022_4.hdf\"\n",
        "download(DATA_PATH + filename)"
      ]
    },
    {
      "cell_type": "code",
      "execution_count": 6,
      "id": "b91bdaed",
      "metadata": {
        "colab": {
          "base_uri": "https://localhost:8080/"
        },
        "id": "b91bdaed",
        "outputId": "21f22c2d-1ed5-49aa-cf9a-dcd35175d85f"
      },
      "outputs": [
        {
          "output_type": "execute_result",
          "data": {
            "text/plain": [
              "Index(['age', 'attend', 'ballot', 'class', 'clmtcaus', 'clmtusa', 'clmtwrld',\n",
              "       'cohort', 'commun', 'conarmy', 'conbus', 'conclerg', 'coneduc',\n",
              "       'confed', 'confinan', 'coninc', 'conjudge', 'conlabor', 'conlegis',\n",
              "       'conmedic', 'conpress', 'conrinc', 'consci', 'contv', 'degree', 'educ',\n",
              "       'eqwlth', 'fair', 'fear', 'fund', 'goodlife', 'hapmar', 'happy',\n",
              "       'health', 'helpful', 'id', 'life', 'partyid', 'polviews', 'pres16',\n",
              "       'pres20', 'race', 'realinc', 'realrinc', 'reg16', 'region', 'relig',\n",
              "       'relig16', 'reliten', 'res16', 'rincome', 'satfin', 'satjob', 'sex',\n",
              "       'sexbirth', 'sexbirth1', 'sexnow', 'sexnow1', 'srcbelt', 'trust',\n",
              "       'wtssall', 'year'],\n",
              "      dtype='object')"
            ]
          },
          "metadata": {},
          "execution_count": 6
        }
      ],
      "source": [
        "gss = pd.read_hdf(filename, \"gss\")\n",
        "gss.columns"
      ]
    },
    {
      "cell_type": "markdown",
      "id": "d3caf34d",
      "metadata": {
        "id": "d3caf34d"
      },
      "source": [
        "## Categorical Regression\n",
        "\n",
        "In a categorical regression model, the dependent variable is discrete and unordered.\n",
        "\n",
        "As an example, we'll consider responses to [this question](https://gssdataexplorer.norc.org/variables/7759/vshow), asked in 2022 related to the 2020 presidential election."
      ]
    },
    {
      "cell_type": "markdown",
      "id": "10535f31",
      "metadata": {
        "id": "10535f31"
      },
      "source": [
        "> Did you vote for Joe Biden or Donald Trump?\n",
        "\n",
        "```\n",
        "1 Biden\n",
        "2 Trump\n",
        "3 Other\n",
        "4 Didn't vote\n",
        "```"
      ]
    },
    {
      "cell_type": "markdown",
      "id": "e37b71a9",
      "metadata": {
        "id": "e37b71a9"
      },
      "source": [
        "For respondents from prior to 2022, the value of this variable is NaN."
      ]
    },
    {
      "cell_type": "code",
      "execution_count": 7,
      "id": "13d77833",
      "metadata": {
        "colab": {
          "base_uri": "https://localhost:8080/",
          "height": 237
        },
        "id": "13d77833",
        "outputId": "186ee25f-44f6-435c-fb49-eba79d5c1492"
      },
      "outputs": [
        {
          "output_type": "execute_result",
          "data": {
            "text/plain": [
              "        counts\n",
              "values        \n",
              "1.0       1259\n",
              "2.0        946\n",
              "3.0         96\n",
              "4.0         16\n",
              "NaN      70073"
            ],
            "text/html": [
              "\n",
              "  <div id=\"df-98641341-645c-4f74-9187-d66969ca6f8f\" class=\"colab-df-container\">\n",
              "    <div>\n",
              "<style scoped>\n",
              "    .dataframe tbody tr th:only-of-type {\n",
              "        vertical-align: middle;\n",
              "    }\n",
              "\n",
              "    .dataframe tbody tr th {\n",
              "        vertical-align: top;\n",
              "    }\n",
              "\n",
              "    .dataframe thead th {\n",
              "        text-align: right;\n",
              "    }\n",
              "</style>\n",
              "<table border=\"1\" class=\"dataframe\">\n",
              "  <thead>\n",
              "    <tr style=\"text-align: right;\">\n",
              "      <th></th>\n",
              "      <th>counts</th>\n",
              "    </tr>\n",
              "    <tr>\n",
              "      <th>values</th>\n",
              "      <th></th>\n",
              "    </tr>\n",
              "  </thead>\n",
              "  <tbody>\n",
              "    <tr>\n",
              "      <th>1.0</th>\n",
              "      <td>1259</td>\n",
              "    </tr>\n",
              "    <tr>\n",
              "      <th>2.0</th>\n",
              "      <td>946</td>\n",
              "    </tr>\n",
              "    <tr>\n",
              "      <th>3.0</th>\n",
              "      <td>96</td>\n",
              "    </tr>\n",
              "    <tr>\n",
              "      <th>4.0</th>\n",
              "      <td>16</td>\n",
              "    </tr>\n",
              "    <tr>\n",
              "      <th>NaN</th>\n",
              "      <td>70073</td>\n",
              "    </tr>\n",
              "  </tbody>\n",
              "</table>\n",
              "</div>\n",
              "    <div class=\"colab-df-buttons\">\n",
              "\n",
              "  <div class=\"colab-df-container\">\n",
              "    <button class=\"colab-df-convert\" onclick=\"convertToInteractive('df-98641341-645c-4f74-9187-d66969ca6f8f')\"\n",
              "            title=\"Convert this dataframe to an interactive table.\"\n",
              "            style=\"display:none;\">\n",
              "\n",
              "  <svg xmlns=\"http://www.w3.org/2000/svg\" height=\"24px\" viewBox=\"0 -960 960 960\">\n",
              "    <path d=\"M120-120v-720h720v720H120Zm60-500h600v-160H180v160Zm220 220h160v-160H400v160Zm0 220h160v-160H400v160ZM180-400h160v-160H180v160Zm440 0h160v-160H620v160ZM180-180h160v-160H180v160Zm440 0h160v-160H620v160Z\"/>\n",
              "  </svg>\n",
              "    </button>\n",
              "\n",
              "  <style>\n",
              "    .colab-df-container {\n",
              "      display:flex;\n",
              "      gap: 12px;\n",
              "    }\n",
              "\n",
              "    .colab-df-convert {\n",
              "      background-color: #E8F0FE;\n",
              "      border: none;\n",
              "      border-radius: 50%;\n",
              "      cursor: pointer;\n",
              "      display: none;\n",
              "      fill: #1967D2;\n",
              "      height: 32px;\n",
              "      padding: 0 0 0 0;\n",
              "      width: 32px;\n",
              "    }\n",
              "\n",
              "    .colab-df-convert:hover {\n",
              "      background-color: #E2EBFA;\n",
              "      box-shadow: 0px 1px 2px rgba(60, 64, 67, 0.3), 0px 1px 3px 1px rgba(60, 64, 67, 0.15);\n",
              "      fill: #174EA6;\n",
              "    }\n",
              "\n",
              "    .colab-df-buttons div {\n",
              "      margin-bottom: 4px;\n",
              "    }\n",
              "\n",
              "    [theme=dark] .colab-df-convert {\n",
              "      background-color: #3B4455;\n",
              "      fill: #D2E3FC;\n",
              "    }\n",
              "\n",
              "    [theme=dark] .colab-df-convert:hover {\n",
              "      background-color: #434B5C;\n",
              "      box-shadow: 0px 1px 3px 1px rgba(0, 0, 0, 0.15);\n",
              "      filter: drop-shadow(0px 1px 2px rgba(0, 0, 0, 0.3));\n",
              "      fill: #FFFFFF;\n",
              "    }\n",
              "  </style>\n",
              "\n",
              "    <script>\n",
              "      const buttonEl =\n",
              "        document.querySelector('#df-98641341-645c-4f74-9187-d66969ca6f8f button.colab-df-convert');\n",
              "      buttonEl.style.display =\n",
              "        google.colab.kernel.accessAllowed ? 'block' : 'none';\n",
              "\n",
              "      async function convertToInteractive(key) {\n",
              "        const element = document.querySelector('#df-98641341-645c-4f74-9187-d66969ca6f8f');\n",
              "        const dataTable =\n",
              "          await google.colab.kernel.invokeFunction('convertToInteractive',\n",
              "                                                    [key], {});\n",
              "        if (!dataTable) return;\n",
              "\n",
              "        const docLinkHtml = 'Like what you see? Visit the ' +\n",
              "          '<a target=\"_blank\" href=https://colab.research.google.com/notebooks/data_table.ipynb>data table notebook</a>'\n",
              "          + ' to learn more about interactive tables.';\n",
              "        element.innerHTML = '';\n",
              "        dataTable['output_type'] = 'display_data';\n",
              "        await google.colab.output.renderOutput(dataTable, element);\n",
              "        const docLink = document.createElement('div');\n",
              "        docLink.innerHTML = docLinkHtml;\n",
              "        element.appendChild(docLink);\n",
              "      }\n",
              "    </script>\n",
              "  </div>\n",
              "\n",
              "\n",
              "    <div id=\"df-a8fb3218-a7c9-4eba-a9f4-9306ea45d108\">\n",
              "      <button class=\"colab-df-quickchart\" onclick=\"quickchart('df-a8fb3218-a7c9-4eba-a9f4-9306ea45d108')\"\n",
              "                title=\"Suggest charts\"\n",
              "                style=\"display:none;\">\n",
              "\n",
              "<svg xmlns=\"http://www.w3.org/2000/svg\" height=\"24px\"viewBox=\"0 0 24 24\"\n",
              "     width=\"24px\">\n",
              "    <g>\n",
              "        <path d=\"M19 3H5c-1.1 0-2 .9-2 2v14c0 1.1.9 2 2 2h14c1.1 0 2-.9 2-2V5c0-1.1-.9-2-2-2zM9 17H7v-7h2v7zm4 0h-2V7h2v10zm4 0h-2v-4h2v4z\"/>\n",
              "    </g>\n",
              "</svg>\n",
              "      </button>\n",
              "\n",
              "<style>\n",
              "  .colab-df-quickchart {\n",
              "      --bg-color: #E8F0FE;\n",
              "      --fill-color: #1967D2;\n",
              "      --hover-bg-color: #E2EBFA;\n",
              "      --hover-fill-color: #174EA6;\n",
              "      --disabled-fill-color: #AAA;\n",
              "      --disabled-bg-color: #DDD;\n",
              "  }\n",
              "\n",
              "  [theme=dark] .colab-df-quickchart {\n",
              "      --bg-color: #3B4455;\n",
              "      --fill-color: #D2E3FC;\n",
              "      --hover-bg-color: #434B5C;\n",
              "      --hover-fill-color: #FFFFFF;\n",
              "      --disabled-bg-color: #3B4455;\n",
              "      --disabled-fill-color: #666;\n",
              "  }\n",
              "\n",
              "  .colab-df-quickchart {\n",
              "    background-color: var(--bg-color);\n",
              "    border: none;\n",
              "    border-radius: 50%;\n",
              "    cursor: pointer;\n",
              "    display: none;\n",
              "    fill: var(--fill-color);\n",
              "    height: 32px;\n",
              "    padding: 0;\n",
              "    width: 32px;\n",
              "  }\n",
              "\n",
              "  .colab-df-quickchart:hover {\n",
              "    background-color: var(--hover-bg-color);\n",
              "    box-shadow: 0 1px 2px rgba(60, 64, 67, 0.3), 0 1px 3px 1px rgba(60, 64, 67, 0.15);\n",
              "    fill: var(--button-hover-fill-color);\n",
              "  }\n",
              "\n",
              "  .colab-df-quickchart-complete:disabled,\n",
              "  .colab-df-quickchart-complete:disabled:hover {\n",
              "    background-color: var(--disabled-bg-color);\n",
              "    fill: var(--disabled-fill-color);\n",
              "    box-shadow: none;\n",
              "  }\n",
              "\n",
              "  .colab-df-spinner {\n",
              "    border: 2px solid var(--fill-color);\n",
              "    border-color: transparent;\n",
              "    border-bottom-color: var(--fill-color);\n",
              "    animation:\n",
              "      spin 1s steps(1) infinite;\n",
              "  }\n",
              "\n",
              "  @keyframes spin {\n",
              "    0% {\n",
              "      border-color: transparent;\n",
              "      border-bottom-color: var(--fill-color);\n",
              "      border-left-color: var(--fill-color);\n",
              "    }\n",
              "    20% {\n",
              "      border-color: transparent;\n",
              "      border-left-color: var(--fill-color);\n",
              "      border-top-color: var(--fill-color);\n",
              "    }\n",
              "    30% {\n",
              "      border-color: transparent;\n",
              "      border-left-color: var(--fill-color);\n",
              "      border-top-color: var(--fill-color);\n",
              "      border-right-color: var(--fill-color);\n",
              "    }\n",
              "    40% {\n",
              "      border-color: transparent;\n",
              "      border-right-color: var(--fill-color);\n",
              "      border-top-color: var(--fill-color);\n",
              "    }\n",
              "    60% {\n",
              "      border-color: transparent;\n",
              "      border-right-color: var(--fill-color);\n",
              "    }\n",
              "    80% {\n",
              "      border-color: transparent;\n",
              "      border-right-color: var(--fill-color);\n",
              "      border-bottom-color: var(--fill-color);\n",
              "    }\n",
              "    90% {\n",
              "      border-color: transparent;\n",
              "      border-bottom-color: var(--fill-color);\n",
              "    }\n",
              "  }\n",
              "</style>\n",
              "\n",
              "      <script>\n",
              "        async function quickchart(key) {\n",
              "          const quickchartButtonEl =\n",
              "            document.querySelector('#' + key + ' button');\n",
              "          quickchartButtonEl.disabled = true;  // To prevent multiple clicks.\n",
              "          quickchartButtonEl.classList.add('colab-df-spinner');\n",
              "          try {\n",
              "            const charts = await google.colab.kernel.invokeFunction(\n",
              "                'suggestCharts', [key], {});\n",
              "          } catch (error) {\n",
              "            console.error('Error during call to suggestCharts:', error);\n",
              "          }\n",
              "          quickchartButtonEl.classList.remove('colab-df-spinner');\n",
              "          quickchartButtonEl.classList.add('colab-df-quickchart-complete');\n",
              "        }\n",
              "        (() => {\n",
              "          let quickchartButtonEl =\n",
              "            document.querySelector('#df-a8fb3218-a7c9-4eba-a9f4-9306ea45d108 button');\n",
              "          quickchartButtonEl.style.display =\n",
              "            google.colab.kernel.accessAllowed ? 'block' : 'none';\n",
              "        })();\n",
              "      </script>\n",
              "    </div>\n",
              "\n",
              "    </div>\n",
              "  </div>\n"
            ],
            "application/vnd.google.colaboratory.intrinsic+json": {
              "type": "dataframe",
              "summary": "{\n  \"name\": \"value_counts(gss[\\\"pres20\\\"])\",\n  \"rows\": 5,\n  \"fields\": [\n    {\n      \"column\": \"values\",\n      \"properties\": {\n        \"dtype\": \"number\",\n        \"std\": 1.2909944487358056,\n        \"min\": 1.0,\n        \"max\": 4.0,\n        \"num_unique_values\": 4,\n        \"samples\": [\n          2.0,\n          4.0,\n          1.0\n        ],\n        \"semantic_type\": \"\",\n        \"description\": \"\"\n      }\n    },\n    {\n      \"column\": \"counts\",\n      \"properties\": {\n        \"dtype\": \"number\",\n        \"std\": 31083,\n        \"min\": 16,\n        \"max\": 70073,\n        \"num_unique_values\": 5,\n        \"samples\": [\n          946,\n          70073,\n          96\n        ],\n        \"semantic_type\": \"\",\n        \"description\": \"\"\n      }\n    }\n  ]\n}"
            }
          },
          "metadata": {},
          "execution_count": 7
        }
      ],
      "source": [
        "value_counts(gss[\"pres20\"])"
      ]
    },
    {
      "cell_type": "markdown",
      "id": "c7f007aa",
      "metadata": {
        "id": "c7f007aa"
      },
      "source": [
        "In addition, we'll treat \"Didn't vote\" as missing data -- although another option would be to treat it as a fourth category."
      ]
    },
    {
      "cell_type": "code",
      "execution_count": 8,
      "id": "dbb2d5e8",
      "metadata": {
        "colab": {
          "base_uri": "https://localhost:8080/",
          "height": 206
        },
        "id": "dbb2d5e8",
        "outputId": "8726bd50-8697-437b-d8f0-f3df20dc61fd"
      },
      "outputs": [
        {
          "output_type": "execute_result",
          "data": {
            "text/plain": [
              "        counts\n",
              "values        \n",
              "0.0         96\n",
              "1.0       1259\n",
              "2.0        946\n",
              "NaN      70089"
            ],
            "text/html": [
              "\n",
              "  <div id=\"df-6c951f31-1531-46b2-8780-c02348a42af3\" class=\"colab-df-container\">\n",
              "    <div>\n",
              "<style scoped>\n",
              "    .dataframe tbody tr th:only-of-type {\n",
              "        vertical-align: middle;\n",
              "    }\n",
              "\n",
              "    .dataframe tbody tr th {\n",
              "        vertical-align: top;\n",
              "    }\n",
              "\n",
              "    .dataframe thead th {\n",
              "        text-align: right;\n",
              "    }\n",
              "</style>\n",
              "<table border=\"1\" class=\"dataframe\">\n",
              "  <thead>\n",
              "    <tr style=\"text-align: right;\">\n",
              "      <th></th>\n",
              "      <th>counts</th>\n",
              "    </tr>\n",
              "    <tr>\n",
              "      <th>values</th>\n",
              "      <th></th>\n",
              "    </tr>\n",
              "  </thead>\n",
              "  <tbody>\n",
              "    <tr>\n",
              "      <th>0.0</th>\n",
              "      <td>96</td>\n",
              "    </tr>\n",
              "    <tr>\n",
              "      <th>1.0</th>\n",
              "      <td>1259</td>\n",
              "    </tr>\n",
              "    <tr>\n",
              "      <th>2.0</th>\n",
              "      <td>946</td>\n",
              "    </tr>\n",
              "    <tr>\n",
              "      <th>NaN</th>\n",
              "      <td>70089</td>\n",
              "    </tr>\n",
              "  </tbody>\n",
              "</table>\n",
              "</div>\n",
              "    <div class=\"colab-df-buttons\">\n",
              "\n",
              "  <div class=\"colab-df-container\">\n",
              "    <button class=\"colab-df-convert\" onclick=\"convertToInteractive('df-6c951f31-1531-46b2-8780-c02348a42af3')\"\n",
              "            title=\"Convert this dataframe to an interactive table.\"\n",
              "            style=\"display:none;\">\n",
              "\n",
              "  <svg xmlns=\"http://www.w3.org/2000/svg\" height=\"24px\" viewBox=\"0 -960 960 960\">\n",
              "    <path d=\"M120-120v-720h720v720H120Zm60-500h600v-160H180v160Zm220 220h160v-160H400v160Zm0 220h160v-160H400v160ZM180-400h160v-160H180v160Zm440 0h160v-160H620v160ZM180-180h160v-160H180v160Zm440 0h160v-160H620v160Z\"/>\n",
              "  </svg>\n",
              "    </button>\n",
              "\n",
              "  <style>\n",
              "    .colab-df-container {\n",
              "      display:flex;\n",
              "      gap: 12px;\n",
              "    }\n",
              "\n",
              "    .colab-df-convert {\n",
              "      background-color: #E8F0FE;\n",
              "      border: none;\n",
              "      border-radius: 50%;\n",
              "      cursor: pointer;\n",
              "      display: none;\n",
              "      fill: #1967D2;\n",
              "      height: 32px;\n",
              "      padding: 0 0 0 0;\n",
              "      width: 32px;\n",
              "    }\n",
              "\n",
              "    .colab-df-convert:hover {\n",
              "      background-color: #E2EBFA;\n",
              "      box-shadow: 0px 1px 2px rgba(60, 64, 67, 0.3), 0px 1px 3px 1px rgba(60, 64, 67, 0.15);\n",
              "      fill: #174EA6;\n",
              "    }\n",
              "\n",
              "    .colab-df-buttons div {\n",
              "      margin-bottom: 4px;\n",
              "    }\n",
              "\n",
              "    [theme=dark] .colab-df-convert {\n",
              "      background-color: #3B4455;\n",
              "      fill: #D2E3FC;\n",
              "    }\n",
              "\n",
              "    [theme=dark] .colab-df-convert:hover {\n",
              "      background-color: #434B5C;\n",
              "      box-shadow: 0px 1px 3px 1px rgba(0, 0, 0, 0.15);\n",
              "      filter: drop-shadow(0px 1px 2px rgba(0, 0, 0, 0.3));\n",
              "      fill: #FFFFFF;\n",
              "    }\n",
              "  </style>\n",
              "\n",
              "    <script>\n",
              "      const buttonEl =\n",
              "        document.querySelector('#df-6c951f31-1531-46b2-8780-c02348a42af3 button.colab-df-convert');\n",
              "      buttonEl.style.display =\n",
              "        google.colab.kernel.accessAllowed ? 'block' : 'none';\n",
              "\n",
              "      async function convertToInteractive(key) {\n",
              "        const element = document.querySelector('#df-6c951f31-1531-46b2-8780-c02348a42af3');\n",
              "        const dataTable =\n",
              "          await google.colab.kernel.invokeFunction('convertToInteractive',\n",
              "                                                    [key], {});\n",
              "        if (!dataTable) return;\n",
              "\n",
              "        const docLinkHtml = 'Like what you see? Visit the ' +\n",
              "          '<a target=\"_blank\" href=https://colab.research.google.com/notebooks/data_table.ipynb>data table notebook</a>'\n",
              "          + ' to learn more about interactive tables.';\n",
              "        element.innerHTML = '';\n",
              "        dataTable['output_type'] = 'display_data';\n",
              "        await google.colab.output.renderOutput(dataTable, element);\n",
              "        const docLink = document.createElement('div');\n",
              "        docLink.innerHTML = docLinkHtml;\n",
              "        element.appendChild(docLink);\n",
              "      }\n",
              "    </script>\n",
              "  </div>\n",
              "\n",
              "\n",
              "    <div id=\"df-3fd66a92-abe6-4079-93d0-eae15e1351e7\">\n",
              "      <button class=\"colab-df-quickchart\" onclick=\"quickchart('df-3fd66a92-abe6-4079-93d0-eae15e1351e7')\"\n",
              "                title=\"Suggest charts\"\n",
              "                style=\"display:none;\">\n",
              "\n",
              "<svg xmlns=\"http://www.w3.org/2000/svg\" height=\"24px\"viewBox=\"0 0 24 24\"\n",
              "     width=\"24px\">\n",
              "    <g>\n",
              "        <path d=\"M19 3H5c-1.1 0-2 .9-2 2v14c0 1.1.9 2 2 2h14c1.1 0 2-.9 2-2V5c0-1.1-.9-2-2-2zM9 17H7v-7h2v7zm4 0h-2V7h2v10zm4 0h-2v-4h2v4z\"/>\n",
              "    </g>\n",
              "</svg>\n",
              "      </button>\n",
              "\n",
              "<style>\n",
              "  .colab-df-quickchart {\n",
              "      --bg-color: #E8F0FE;\n",
              "      --fill-color: #1967D2;\n",
              "      --hover-bg-color: #E2EBFA;\n",
              "      --hover-fill-color: #174EA6;\n",
              "      --disabled-fill-color: #AAA;\n",
              "      --disabled-bg-color: #DDD;\n",
              "  }\n",
              "\n",
              "  [theme=dark] .colab-df-quickchart {\n",
              "      --bg-color: #3B4455;\n",
              "      --fill-color: #D2E3FC;\n",
              "      --hover-bg-color: #434B5C;\n",
              "      --hover-fill-color: #FFFFFF;\n",
              "      --disabled-bg-color: #3B4455;\n",
              "      --disabled-fill-color: #666;\n",
              "  }\n",
              "\n",
              "  .colab-df-quickchart {\n",
              "    background-color: var(--bg-color);\n",
              "    border: none;\n",
              "    border-radius: 50%;\n",
              "    cursor: pointer;\n",
              "    display: none;\n",
              "    fill: var(--fill-color);\n",
              "    height: 32px;\n",
              "    padding: 0;\n",
              "    width: 32px;\n",
              "  }\n",
              "\n",
              "  .colab-df-quickchart:hover {\n",
              "    background-color: var(--hover-bg-color);\n",
              "    box-shadow: 0 1px 2px rgba(60, 64, 67, 0.3), 0 1px 3px 1px rgba(60, 64, 67, 0.15);\n",
              "    fill: var(--button-hover-fill-color);\n",
              "  }\n",
              "\n",
              "  .colab-df-quickchart-complete:disabled,\n",
              "  .colab-df-quickchart-complete:disabled:hover {\n",
              "    background-color: var(--disabled-bg-color);\n",
              "    fill: var(--disabled-fill-color);\n",
              "    box-shadow: none;\n",
              "  }\n",
              "\n",
              "  .colab-df-spinner {\n",
              "    border: 2px solid var(--fill-color);\n",
              "    border-color: transparent;\n",
              "    border-bottom-color: var(--fill-color);\n",
              "    animation:\n",
              "      spin 1s steps(1) infinite;\n",
              "  }\n",
              "\n",
              "  @keyframes spin {\n",
              "    0% {\n",
              "      border-color: transparent;\n",
              "      border-bottom-color: var(--fill-color);\n",
              "      border-left-color: var(--fill-color);\n",
              "    }\n",
              "    20% {\n",
              "      border-color: transparent;\n",
              "      border-left-color: var(--fill-color);\n",
              "      border-top-color: var(--fill-color);\n",
              "    }\n",
              "    30% {\n",
              "      border-color: transparent;\n",
              "      border-left-color: var(--fill-color);\n",
              "      border-top-color: var(--fill-color);\n",
              "      border-right-color: var(--fill-color);\n",
              "    }\n",
              "    40% {\n",
              "      border-color: transparent;\n",
              "      border-right-color: var(--fill-color);\n",
              "      border-top-color: var(--fill-color);\n",
              "    }\n",
              "    60% {\n",
              "      border-color: transparent;\n",
              "      border-right-color: var(--fill-color);\n",
              "    }\n",
              "    80% {\n",
              "      border-color: transparent;\n",
              "      border-right-color: var(--fill-color);\n",
              "      border-bottom-color: var(--fill-color);\n",
              "    }\n",
              "    90% {\n",
              "      border-color: transparent;\n",
              "      border-bottom-color: var(--fill-color);\n",
              "    }\n",
              "  }\n",
              "</style>\n",
              "\n",
              "      <script>\n",
              "        async function quickchart(key) {\n",
              "          const quickchartButtonEl =\n",
              "            document.querySelector('#' + key + ' button');\n",
              "          quickchartButtonEl.disabled = true;  // To prevent multiple clicks.\n",
              "          quickchartButtonEl.classList.add('colab-df-spinner');\n",
              "          try {\n",
              "            const charts = await google.colab.kernel.invokeFunction(\n",
              "                'suggestCharts', [key], {});\n",
              "          } catch (error) {\n",
              "            console.error('Error during call to suggestCharts:', error);\n",
              "          }\n",
              "          quickchartButtonEl.classList.remove('colab-df-spinner');\n",
              "          quickchartButtonEl.classList.add('colab-df-quickchart-complete');\n",
              "        }\n",
              "        (() => {\n",
              "          let quickchartButtonEl =\n",
              "            document.querySelector('#df-3fd66a92-abe6-4079-93d0-eae15e1351e7 button');\n",
              "          quickchartButtonEl.style.display =\n",
              "            google.colab.kernel.accessAllowed ? 'block' : 'none';\n",
              "        })();\n",
              "      </script>\n",
              "    </div>\n",
              "\n",
              "    </div>\n",
              "  </div>\n"
            ],
            "application/vnd.google.colaboratory.intrinsic+json": {
              "type": "dataframe",
              "summary": "{\n  \"name\": \"value_counts(gss[\\\"y\\\"])\",\n  \"rows\": 4,\n  \"fields\": [\n    {\n      \"column\": \"values\",\n      \"properties\": {\n        \"dtype\": \"number\",\n        \"std\": 1.0,\n        \"min\": 0.0,\n        \"max\": 2.0,\n        \"num_unique_values\": 3,\n        \"samples\": [\n          0.0,\n          1.0,\n          2.0\n        ],\n        \"semantic_type\": \"\",\n        \"description\": \"\"\n      }\n    },\n    {\n      \"column\": \"counts\",\n      \"properties\": {\n        \"dtype\": \"number\",\n        \"std\": 34664,\n        \"min\": 96,\n        \"max\": 70089,\n        \"num_unique_values\": 4,\n        \"samples\": [\n          1259,\n          70089,\n          96\n        ],\n        \"semantic_type\": \"\",\n        \"description\": \"\"\n      }\n    }\n  ]\n}"
            }
          },
          "metadata": {},
          "execution_count": 8
        }
      ],
      "source": [
        "gss[\"y\"] = gss[\"pres20\"].replace({3: 0, 4: np.nan})\n",
        "value_counts(gss[\"y\"])"
      ]
    },
    {
      "cell_type": "markdown",
      "id": "46fe6772",
      "metadata": {
        "id": "46fe6772"
      },
      "source": [
        "The following dictionary maps from response codes to strings."
      ]
    },
    {
      "cell_type": "code",
      "execution_count": 9,
      "id": "cd64517f",
      "metadata": {
        "id": "cd64517f"
      },
      "outputs": [],
      "source": [
        "vote_map = {\n",
        "    0: \"Other\",\n",
        "    1: \"Biden\",\n",
        "    2: \"Trump\",\n",
        "}"
      ]
    },
    {
      "cell_type": "markdown",
      "id": "6f484f73",
      "metadata": {
        "id": "6f484f73"
      },
      "source": [
        "We'll use age as a predictor.\n",
        "In the regression model, we'll treat age as a continuous variable, but to plot the data, we'll group ages into 5-year bins."
      ]
    },
    {
      "cell_type": "code",
      "execution_count": 10,
      "id": "f5f1c7df",
      "metadata": {
        "id": "f5f1c7df"
      },
      "outputs": [],
      "source": [
        "from utils import round_into_bins\n",
        "\n",
        "gss[\"age_group\"] = round_into_bins(gss[\"age\"].copy(), 5, low=13) + 2"
      ]
    },
    {
      "cell_type": "markdown",
      "id": "2db29656",
      "metadata": {
        "id": "2db29656"
      },
      "source": [
        "The following table show the percentage of respondents in each age group who gave each responses."
      ]
    },
    {
      "cell_type": "code",
      "execution_count": 11,
      "id": "c08271e2",
      "metadata": {
        "colab": {
          "base_uri": "https://localhost:8080/",
          "height": 582
        },
        "id": "c08271e2",
        "outputId": "58a49e1d-f0ec-417e-a4fd-0b82211c9393"
      },
      "outputs": [
        {
          "output_type": "execute_result",
          "data": {
            "text/plain": [
              "y              Other      Biden      Trump\n",
              "age_group                                 \n",
              "20.0        0.680272  61.224490  38.095238\n",
              "25.0        9.859155  59.154930  30.985915\n",
              "30.0        2.684564  74.496644  22.818792\n",
              "35.0        3.816794  59.541985  36.641221\n",
              "40.0        5.851064  39.893617  54.255319\n",
              "45.0        7.222222  50.555556  42.222222\n",
              "50.0        4.149378  48.962656  46.887967\n",
              "55.0        5.747126  56.896552  37.356322\n",
              "60.0        3.255814  53.953488  42.790698\n",
              "65.0        2.209945  48.618785  49.171271\n",
              "70.0        3.296703  59.890110  36.813187\n",
              "75.0        4.195804  50.349650  45.454545\n",
              "80.0        0.000000  38.983051  61.016949\n",
              "85.0       10.000000  55.000000  35.000000\n",
              "90.0        0.000000  53.846154  46.153846\n",
              "95.0        0.862069  65.517241  33.620690"
            ],
            "text/html": [
              "\n",
              "  <div id=\"df-25c4207d-c0de-47ce-986b-13ca8541b3d9\" class=\"colab-df-container\">\n",
              "    <div>\n",
              "<style scoped>\n",
              "    .dataframe tbody tr th:only-of-type {\n",
              "        vertical-align: middle;\n",
              "    }\n",
              "\n",
              "    .dataframe tbody tr th {\n",
              "        vertical-align: top;\n",
              "    }\n",
              "\n",
              "    .dataframe thead th {\n",
              "        text-align: right;\n",
              "    }\n",
              "</style>\n",
              "<table border=\"1\" class=\"dataframe\">\n",
              "  <thead>\n",
              "    <tr style=\"text-align: right;\">\n",
              "      <th>y</th>\n",
              "      <th>Other</th>\n",
              "      <th>Biden</th>\n",
              "      <th>Trump</th>\n",
              "    </tr>\n",
              "    <tr>\n",
              "      <th>age_group</th>\n",
              "      <th></th>\n",
              "      <th></th>\n",
              "      <th></th>\n",
              "    </tr>\n",
              "  </thead>\n",
              "  <tbody>\n",
              "    <tr>\n",
              "      <th>20.0</th>\n",
              "      <td>0.680272</td>\n",
              "      <td>61.224490</td>\n",
              "      <td>38.095238</td>\n",
              "    </tr>\n",
              "    <tr>\n",
              "      <th>25.0</th>\n",
              "      <td>9.859155</td>\n",
              "      <td>59.154930</td>\n",
              "      <td>30.985915</td>\n",
              "    </tr>\n",
              "    <tr>\n",
              "      <th>30.0</th>\n",
              "      <td>2.684564</td>\n",
              "      <td>74.496644</td>\n",
              "      <td>22.818792</td>\n",
              "    </tr>\n",
              "    <tr>\n",
              "      <th>35.0</th>\n",
              "      <td>3.816794</td>\n",
              "      <td>59.541985</td>\n",
              "      <td>36.641221</td>\n",
              "    </tr>\n",
              "    <tr>\n",
              "      <th>40.0</th>\n",
              "      <td>5.851064</td>\n",
              "      <td>39.893617</td>\n",
              "      <td>54.255319</td>\n",
              "    </tr>\n",
              "    <tr>\n",
              "      <th>45.0</th>\n",
              "      <td>7.222222</td>\n",
              "      <td>50.555556</td>\n",
              "      <td>42.222222</td>\n",
              "    </tr>\n",
              "    <tr>\n",
              "      <th>50.0</th>\n",
              "      <td>4.149378</td>\n",
              "      <td>48.962656</td>\n",
              "      <td>46.887967</td>\n",
              "    </tr>\n",
              "    <tr>\n",
              "      <th>55.0</th>\n",
              "      <td>5.747126</td>\n",
              "      <td>56.896552</td>\n",
              "      <td>37.356322</td>\n",
              "    </tr>\n",
              "    <tr>\n",
              "      <th>60.0</th>\n",
              "      <td>3.255814</td>\n",
              "      <td>53.953488</td>\n",
              "      <td>42.790698</td>\n",
              "    </tr>\n",
              "    <tr>\n",
              "      <th>65.0</th>\n",
              "      <td>2.209945</td>\n",
              "      <td>48.618785</td>\n",
              "      <td>49.171271</td>\n",
              "    </tr>\n",
              "    <tr>\n",
              "      <th>70.0</th>\n",
              "      <td>3.296703</td>\n",
              "      <td>59.890110</td>\n",
              "      <td>36.813187</td>\n",
              "    </tr>\n",
              "    <tr>\n",
              "      <th>75.0</th>\n",
              "      <td>4.195804</td>\n",
              "      <td>50.349650</td>\n",
              "      <td>45.454545</td>\n",
              "    </tr>\n",
              "    <tr>\n",
              "      <th>80.0</th>\n",
              "      <td>0.000000</td>\n",
              "      <td>38.983051</td>\n",
              "      <td>61.016949</td>\n",
              "    </tr>\n",
              "    <tr>\n",
              "      <th>85.0</th>\n",
              "      <td>10.000000</td>\n",
              "      <td>55.000000</td>\n",
              "      <td>35.000000</td>\n",
              "    </tr>\n",
              "    <tr>\n",
              "      <th>90.0</th>\n",
              "      <td>0.000000</td>\n",
              "      <td>53.846154</td>\n",
              "      <td>46.153846</td>\n",
              "    </tr>\n",
              "    <tr>\n",
              "      <th>95.0</th>\n",
              "      <td>0.862069</td>\n",
              "      <td>65.517241</td>\n",
              "      <td>33.620690</td>\n",
              "    </tr>\n",
              "  </tbody>\n",
              "</table>\n",
              "</div>\n",
              "    <div class=\"colab-df-buttons\">\n",
              "\n",
              "  <div class=\"colab-df-container\">\n",
              "    <button class=\"colab-df-convert\" onclick=\"convertToInteractive('df-25c4207d-c0de-47ce-986b-13ca8541b3d9')\"\n",
              "            title=\"Convert this dataframe to an interactive table.\"\n",
              "            style=\"display:none;\">\n",
              "\n",
              "  <svg xmlns=\"http://www.w3.org/2000/svg\" height=\"24px\" viewBox=\"0 -960 960 960\">\n",
              "    <path d=\"M120-120v-720h720v720H120Zm60-500h600v-160H180v160Zm220 220h160v-160H400v160Zm0 220h160v-160H400v160ZM180-400h160v-160H180v160Zm440 0h160v-160H620v160ZM180-180h160v-160H180v160Zm440 0h160v-160H620v160Z\"/>\n",
              "  </svg>\n",
              "    </button>\n",
              "\n",
              "  <style>\n",
              "    .colab-df-container {\n",
              "      display:flex;\n",
              "      gap: 12px;\n",
              "    }\n",
              "\n",
              "    .colab-df-convert {\n",
              "      background-color: #E8F0FE;\n",
              "      border: none;\n",
              "      border-radius: 50%;\n",
              "      cursor: pointer;\n",
              "      display: none;\n",
              "      fill: #1967D2;\n",
              "      height: 32px;\n",
              "      padding: 0 0 0 0;\n",
              "      width: 32px;\n",
              "    }\n",
              "\n",
              "    .colab-df-convert:hover {\n",
              "      background-color: #E2EBFA;\n",
              "      box-shadow: 0px 1px 2px rgba(60, 64, 67, 0.3), 0px 1px 3px 1px rgba(60, 64, 67, 0.15);\n",
              "      fill: #174EA6;\n",
              "    }\n",
              "\n",
              "    .colab-df-buttons div {\n",
              "      margin-bottom: 4px;\n",
              "    }\n",
              "\n",
              "    [theme=dark] .colab-df-convert {\n",
              "      background-color: #3B4455;\n",
              "      fill: #D2E3FC;\n",
              "    }\n",
              "\n",
              "    [theme=dark] .colab-df-convert:hover {\n",
              "      background-color: #434B5C;\n",
              "      box-shadow: 0px 1px 3px 1px rgba(0, 0, 0, 0.15);\n",
              "      filter: drop-shadow(0px 1px 2px rgba(0, 0, 0, 0.3));\n",
              "      fill: #FFFFFF;\n",
              "    }\n",
              "  </style>\n",
              "\n",
              "    <script>\n",
              "      const buttonEl =\n",
              "        document.querySelector('#df-25c4207d-c0de-47ce-986b-13ca8541b3d9 button.colab-df-convert');\n",
              "      buttonEl.style.display =\n",
              "        google.colab.kernel.accessAllowed ? 'block' : 'none';\n",
              "\n",
              "      async function convertToInteractive(key) {\n",
              "        const element = document.querySelector('#df-25c4207d-c0de-47ce-986b-13ca8541b3d9');\n",
              "        const dataTable =\n",
              "          await google.colab.kernel.invokeFunction('convertToInteractive',\n",
              "                                                    [key], {});\n",
              "        if (!dataTable) return;\n",
              "\n",
              "        const docLinkHtml = 'Like what you see? Visit the ' +\n",
              "          '<a target=\"_blank\" href=https://colab.research.google.com/notebooks/data_table.ipynb>data table notebook</a>'\n",
              "          + ' to learn more about interactive tables.';\n",
              "        element.innerHTML = '';\n",
              "        dataTable['output_type'] = 'display_data';\n",
              "        await google.colab.output.renderOutput(dataTable, element);\n",
              "        const docLink = document.createElement('div');\n",
              "        docLink.innerHTML = docLinkHtml;\n",
              "        element.appendChild(docLink);\n",
              "      }\n",
              "    </script>\n",
              "  </div>\n",
              "\n",
              "\n",
              "    <div id=\"df-adac090c-e676-4733-ab94-f9b92ff2833d\">\n",
              "      <button class=\"colab-df-quickchart\" onclick=\"quickchart('df-adac090c-e676-4733-ab94-f9b92ff2833d')\"\n",
              "                title=\"Suggest charts\"\n",
              "                style=\"display:none;\">\n",
              "\n",
              "<svg xmlns=\"http://www.w3.org/2000/svg\" height=\"24px\"viewBox=\"0 0 24 24\"\n",
              "     width=\"24px\">\n",
              "    <g>\n",
              "        <path d=\"M19 3H5c-1.1 0-2 .9-2 2v14c0 1.1.9 2 2 2h14c1.1 0 2-.9 2-2V5c0-1.1-.9-2-2-2zM9 17H7v-7h2v7zm4 0h-2V7h2v10zm4 0h-2v-4h2v4z\"/>\n",
              "    </g>\n",
              "</svg>\n",
              "      </button>\n",
              "\n",
              "<style>\n",
              "  .colab-df-quickchart {\n",
              "      --bg-color: #E8F0FE;\n",
              "      --fill-color: #1967D2;\n",
              "      --hover-bg-color: #E2EBFA;\n",
              "      --hover-fill-color: #174EA6;\n",
              "      --disabled-fill-color: #AAA;\n",
              "      --disabled-bg-color: #DDD;\n",
              "  }\n",
              "\n",
              "  [theme=dark] .colab-df-quickchart {\n",
              "      --bg-color: #3B4455;\n",
              "      --fill-color: #D2E3FC;\n",
              "      --hover-bg-color: #434B5C;\n",
              "      --hover-fill-color: #FFFFFF;\n",
              "      --disabled-bg-color: #3B4455;\n",
              "      --disabled-fill-color: #666;\n",
              "  }\n",
              "\n",
              "  .colab-df-quickchart {\n",
              "    background-color: var(--bg-color);\n",
              "    border: none;\n",
              "    border-radius: 50%;\n",
              "    cursor: pointer;\n",
              "    display: none;\n",
              "    fill: var(--fill-color);\n",
              "    height: 32px;\n",
              "    padding: 0;\n",
              "    width: 32px;\n",
              "  }\n",
              "\n",
              "  .colab-df-quickchart:hover {\n",
              "    background-color: var(--hover-bg-color);\n",
              "    box-shadow: 0 1px 2px rgba(60, 64, 67, 0.3), 0 1px 3px 1px rgba(60, 64, 67, 0.15);\n",
              "    fill: var(--button-hover-fill-color);\n",
              "  }\n",
              "\n",
              "  .colab-df-quickchart-complete:disabled,\n",
              "  .colab-df-quickchart-complete:disabled:hover {\n",
              "    background-color: var(--disabled-bg-color);\n",
              "    fill: var(--disabled-fill-color);\n",
              "    box-shadow: none;\n",
              "  }\n",
              "\n",
              "  .colab-df-spinner {\n",
              "    border: 2px solid var(--fill-color);\n",
              "    border-color: transparent;\n",
              "    border-bottom-color: var(--fill-color);\n",
              "    animation:\n",
              "      spin 1s steps(1) infinite;\n",
              "  }\n",
              "\n",
              "  @keyframes spin {\n",
              "    0% {\n",
              "      border-color: transparent;\n",
              "      border-bottom-color: var(--fill-color);\n",
              "      border-left-color: var(--fill-color);\n",
              "    }\n",
              "    20% {\n",
              "      border-color: transparent;\n",
              "      border-left-color: var(--fill-color);\n",
              "      border-top-color: var(--fill-color);\n",
              "    }\n",
              "    30% {\n",
              "      border-color: transparent;\n",
              "      border-left-color: var(--fill-color);\n",
              "      border-top-color: var(--fill-color);\n",
              "      border-right-color: var(--fill-color);\n",
              "    }\n",
              "    40% {\n",
              "      border-color: transparent;\n",
              "      border-right-color: var(--fill-color);\n",
              "      border-top-color: var(--fill-color);\n",
              "    }\n",
              "    60% {\n",
              "      border-color: transparent;\n",
              "      border-right-color: var(--fill-color);\n",
              "    }\n",
              "    80% {\n",
              "      border-color: transparent;\n",
              "      border-right-color: var(--fill-color);\n",
              "      border-bottom-color: var(--fill-color);\n",
              "    }\n",
              "    90% {\n",
              "      border-color: transparent;\n",
              "      border-bottom-color: var(--fill-color);\n",
              "    }\n",
              "  }\n",
              "</style>\n",
              "\n",
              "      <script>\n",
              "        async function quickchart(key) {\n",
              "          const quickchartButtonEl =\n",
              "            document.querySelector('#' + key + ' button');\n",
              "          quickchartButtonEl.disabled = true;  // To prevent multiple clicks.\n",
              "          quickchartButtonEl.classList.add('colab-df-spinner');\n",
              "          try {\n",
              "            const charts = await google.colab.kernel.invokeFunction(\n",
              "                'suggestCharts', [key], {});\n",
              "          } catch (error) {\n",
              "            console.error('Error during call to suggestCharts:', error);\n",
              "          }\n",
              "          quickchartButtonEl.classList.remove('colab-df-spinner');\n",
              "          quickchartButtonEl.classList.add('colab-df-quickchart-complete');\n",
              "        }\n",
              "        (() => {\n",
              "          let quickchartButtonEl =\n",
              "            document.querySelector('#df-adac090c-e676-4733-ab94-f9b92ff2833d button');\n",
              "          quickchartButtonEl.style.display =\n",
              "            google.colab.kernel.accessAllowed ? 'block' : 'none';\n",
              "        })();\n",
              "      </script>\n",
              "    </div>\n",
              "\n",
              "  <div id=\"id_80947919-81c2-43f7-bb2f-f6ee522eb900\">\n",
              "    <style>\n",
              "      .colab-df-generate {\n",
              "        background-color: #E8F0FE;\n",
              "        border: none;\n",
              "        border-radius: 50%;\n",
              "        cursor: pointer;\n",
              "        display: none;\n",
              "        fill: #1967D2;\n",
              "        height: 32px;\n",
              "        padding: 0 0 0 0;\n",
              "        width: 32px;\n",
              "      }\n",
              "\n",
              "      .colab-df-generate:hover {\n",
              "        background-color: #E2EBFA;\n",
              "        box-shadow: 0px 1px 2px rgba(60, 64, 67, 0.3), 0px 1px 3px 1px rgba(60, 64, 67, 0.15);\n",
              "        fill: #174EA6;\n",
              "      }\n",
              "\n",
              "      [theme=dark] .colab-df-generate {\n",
              "        background-color: #3B4455;\n",
              "        fill: #D2E3FC;\n",
              "      }\n",
              "\n",
              "      [theme=dark] .colab-df-generate:hover {\n",
              "        background-color: #434B5C;\n",
              "        box-shadow: 0px 1px 3px 1px rgba(0, 0, 0, 0.15);\n",
              "        filter: drop-shadow(0px 1px 2px rgba(0, 0, 0, 0.3));\n",
              "        fill: #FFFFFF;\n",
              "      }\n",
              "    </style>\n",
              "    <button class=\"colab-df-generate\" onclick=\"generateWithVariable('table')\"\n",
              "            title=\"Generate code using this dataframe.\"\n",
              "            style=\"display:none;\">\n",
              "\n",
              "  <svg xmlns=\"http://www.w3.org/2000/svg\" height=\"24px\"viewBox=\"0 0 24 24\"\n",
              "       width=\"24px\">\n",
              "    <path d=\"M7,19H8.4L18.45,9,17,7.55,7,17.6ZM5,21V16.75L18.45,3.32a2,2,0,0,1,2.83,0l1.4,1.43a1.91,1.91,0,0,1,.58,1.4,1.91,1.91,0,0,1-.58,1.4L9.25,21ZM18.45,9,17,7.55Zm-12,3A5.31,5.31,0,0,0,4.9,8.1,5.31,5.31,0,0,0,1,6.5,5.31,5.31,0,0,0,4.9,4.9,5.31,5.31,0,0,0,6.5,1,5.31,5.31,0,0,0,8.1,4.9,5.31,5.31,0,0,0,12,6.5,5.46,5.46,0,0,0,6.5,12Z\"/>\n",
              "  </svg>\n",
              "    </button>\n",
              "    <script>\n",
              "      (() => {\n",
              "      const buttonEl =\n",
              "        document.querySelector('#id_80947919-81c2-43f7-bb2f-f6ee522eb900 button.colab-df-generate');\n",
              "      buttonEl.style.display =\n",
              "        google.colab.kernel.accessAllowed ? 'block' : 'none';\n",
              "\n",
              "      buttonEl.onclick = () => {\n",
              "        google.colab.notebook.generateWithVariable('table');\n",
              "      }\n",
              "      })();\n",
              "    </script>\n",
              "  </div>\n",
              "\n",
              "    </div>\n",
              "  </div>\n"
            ],
            "application/vnd.google.colaboratory.intrinsic+json": {
              "type": "dataframe",
              "variable_name": "table",
              "summary": "{\n  \"name\": \"table\",\n  \"rows\": 16,\n  \"fields\": [\n    {\n      \"column\": \"age_group\",\n      \"properties\": {\n        \"dtype\": \"number\",\n        \"std\": 23.804761428476166,\n        \"min\": 20.0,\n        \"max\": 95.0,\n        \"num_unique_values\": 16,\n        \"samples\": [\n          20.0,\n          25.0,\n          45.0\n        ],\n        \"semantic_type\": \"\",\n        \"description\": \"\"\n      }\n    },\n    {\n      \"column\": \"Other\",\n      \"properties\": {\n        \"dtype\": \"number\",\n        \"std\": 3.1212609092983863,\n        \"min\": 0.0,\n        \"max\": 10.0,\n        \"num_unique_values\": 15,\n        \"samples\": [\n          2.209944751381215,\n          4.195804195804196,\n          0.6802721088435374\n        ],\n        \"semantic_type\": \"\",\n        \"description\": \"\"\n      }\n    },\n    {\n      \"column\": \"Biden\",\n      \"properties\": {\n        \"dtype\": \"number\",\n        \"std\": 8.944244815800914,\n        \"min\": 38.983050847457626,\n        \"max\": 74.49664429530202,\n        \"num_unique_values\": 16,\n        \"samples\": [\n          61.224489795918366,\n          59.154929577464785,\n          50.55555555555556\n        ],\n        \"semantic_type\": \"\",\n        \"description\": \"\"\n      }\n    },\n    {\n      \"column\": \"Trump\",\n      \"properties\": {\n        \"dtype\": \"number\",\n        \"std\": 9.337329368856397,\n        \"min\": 22.818791946308725,\n        \"max\": 61.016949152542374,\n        \"num_unique_values\": 16,\n        \"samples\": [\n          38.095238095238095,\n          30.985915492957744,\n          42.22222222222222\n        ],\n        \"semantic_type\": \"\",\n        \"description\": \"\"\n      }\n    }\n  ]\n}"
            }
          },
          "metadata": {},
          "execution_count": 11
        }
      ],
      "source": [
        "table = pd.crosstab(gss[\"age_group\"], gss[\"y\"], normalize=\"index\") * 100\n",
        "table = table.rename(columns=vote_map)\n",
        "table"
      ]
    },
    {
      "cell_type": "markdown",
      "id": "a2034b1b",
      "metadata": {
        "id": "a2034b1b"
      },
      "source": [
        "And here's what those results look like."
      ]
    },
    {
      "cell_type": "code",
      "execution_count": 12,
      "id": "ca8751b5",
      "metadata": {
        "colab": {
          "base_uri": "https://localhost:8080/",
          "height": 272
        },
        "id": "ca8751b5",
        "outputId": "f5a69042-2fa2-4cd5-97de-f5507729d8c0"
      },
      "outputs": [
        {
          "output_type": "display_data",
          "data": {
            "text/plain": [
              "<Figure size 450x262.5 with 1 Axes>"
            ],
            "image/png": "[encoded data removed]"
          },
          "metadata": {}
        }
      ],
      "source": [
        "colors = [\"C4\", \"C0\", \"C3\"]\n",
        "table.plot(color=colors)\n",
        "decorate(ylabel=\"percent\", title=\"Percent voting for each candidate\")"
      ]
    },
    {
      "cell_type": "markdown",
      "id": "34043488",
      "metadata": {
        "id": "34043488"
      },
      "source": [
        "It looks like younger people were more likely to vote for Biden, and older people were more likely to vote for Trump.\n",
        "There is no obvious relationship between age and voting for a third-party candidate."
      ]
    },
    {
      "cell_type": "markdown",
      "id": "bebc180b",
      "metadata": {
        "id": "bebc180b"
      },
      "source": [
        "## Categorical Regression\n",
        "\n",
        "Now let's make a regression model that estimates the probability of voting for each candidate as a function of age.\n",
        "We'll select the subset of the data with valid responses."
      ]
    },
    {
      "cell_type": "code",
      "execution_count": 13,
      "id": "3c8e6e93",
      "metadata": {
        "colab": {
          "base_uri": "https://localhost:8080/"
        },
        "id": "3c8e6e93",
        "outputId": "8072a629-6093-46ad-d1c3-35f4672f0304"
      },
      "outputs": [
        {
          "output_type": "execute_result",
          "data": {
            "text/plain": [
              "(2185, 64)"
            ]
          },
          "metadata": {},
          "execution_count": 13
        }
      ],
      "source": [
        "data = gss.dropna(subset=[\"y\", \"age\"])\n",
        "data.shape"
      ]
    },
    {
      "cell_type": "markdown",
      "id": "3bccaacf",
      "metadata": {
        "id": "3bccaacf"
      },
      "source": [
        "And we'll extract the values as NumPy arrays.\n",
        "As we did with `year` in the previous notebook, we'll center the ages."
      ]
    },
    {
      "cell_type": "code",
      "execution_count": 14,
      "id": "ee50a359",
      "metadata": {
        "id": "ee50a359"
      },
      "outputs": [],
      "source": [
        "y = data[\"y\"].values\n",
        "age = data[\"age\"].values\n",
        "\n",
        "# Center age\n",
        "age_shift = age.mean()\n",
        "age_centered = age - age_shift"
      ]
    },
    {
      "cell_type": "markdown",
      "id": "7be70c97",
      "metadata": {
        "id": "7be70c97"
      },
      "source": [
        "Now, we'll build the regression model.\n",
        "\n",
        "The assumption of categorical regression is that each respondent has a latent propensity to vote for each of the candidates, which is represented on a log odds scale.\n",
        "\n",
        "The zero-point of this scale is arbitrary, so we'll choose propensity for \"Other\" as the reference point and estimate coefficients for Biden and Trump relative to Other.\n",
        "\n",
        "To map from these logits to probabilities, we'll use the `softmax` function, which is a generalization of the `expit` function we used for logistic regression.\n",
        "\n",
        "Here's the `expit` function:\n",
        "\n",
        "$$\n",
        "\\text{expit}(x) = \\frac{1}{1 + e^{-x}}\n",
        "$$\n",
        "\n",
        "This maps a single log-odds value \\( x \\) to a probability between 0 and 1.\n",
        "\n",
        "\n",
        "And here's the `softmax` function:\n",
        "\n",
        "$$\n",
        "\\text{softmax}(x_i) = \\frac{e^{x_i}}{\\sum_{j} e^{x_j}}\n",
        "$$\n",
        "\n",
        "This maps a set of logits $(x_1, x_2, \\ldots, x_n)$ to a set of probabilities that sum to 1, assigning higher probabilities to larger logits.\n",
        "\n",
        "Once we have probabilities we can compute the likelihood of the data with `Categorical`, which is the generalization of `Bernoulli` to more than two outcomes."
      ]
    },
    {
      "cell_type": "code",
      "execution_count": 16,
      "id": "72276865",
      "metadata": {
        "id": "72276865"
      },
      "outputs": [],
      "source": [
        "# Modify this\n",
        "\n",
        "with pm.Model() as categorical_model:\n",
        "    alpha = pm.Normal(\"alpha\", 0, 1, shape=2)        # Biden, Trump (relative to Other)\n",
        "    beta_age = pm.Normal(\"beta_age\", 0, 1, shape=2)\n",
        "\n",
        "    logit_other = np.zeros(len(age))\n",
        "    logit_biden = alpha[0] + beta_age[0]*age_centered\n",
        "    logit_trump = alpha[1] + beta_age[1]*age_centered\n",
        "\n",
        "    logits = pm.math.stack([logit_other,logit_biden,logit_trump],axis=1)\n",
        "\n",
        "    p = pm.math.softmax(logits, axis=1)\n",
        "\n",
        "    y_obs = pm.Categorical(\"y_obs\", p=p, observed=y)"
      ]
    },
    {
      "cell_type": "code",
      "execution_count": 18,
      "id": "fb924cfc",
      "metadata": {
        "id": "fb924cfc"
      },
      "outputs": [],
      "source": [
        "# Solution\n",
        "\n",
        "with pm.Model() as categorical_model:\n",
        "    alpha = pm.Normal(\"alpha\", 0, 1, shape=2)        # Biden, Trump (relative to Other)\n",
        "    beta_age = pm.Normal(\"beta_age\", 0, 1, shape=2)\n",
        "\n",
        "    logit_other = np.zeros(len(age))\n",
        "    logit_biden = alpha[0] + beta_age[0] * age_centered\n",
        "    logit_trump = alpha[1] + beta_age[1] * age_centered\n",
        "\n",
        "    logits = pm.math.stack([logit_other, logit_biden, logit_trump], axis=1)\n",
        "\n",
        "    p = pm.math.softmax(logits, axis=1)\n",
        "\n",
        "    y_obs = pm.Categorical(\"y_obs\", p=p, observed=y)"
      ]
    },
    {
      "cell_type": "markdown",
      "id": "b54c771e",
      "metadata": {
        "id": "b54c771e"
      },
      "source": [
        "Here's what the model looks like."
      ]
    },
    {
      "cell_type": "code",
      "execution_count": 19,
      "id": "29062a7f",
      "metadata": {
        "colab": {
          "base_uri": "https://localhost:8080/",
          "height": 368
        },
        "id": "29062a7f",
        "outputId": "53fa13cb-5df5-44b8-8bbc-87f90ea4bf00"
      },
      "outputs": [
        {
          "output_type": "execute_result",
          "data": {
            "image/svg+xml": "<?xml version=\"1.0\" encoding=\"UTF-8\" standalone=\"no\"?>\n<!DOCTYPE svg PUBLIC \"-//W3C//DTD SVG 1.1//EN\"\n \"http://www.w3.org/Graphics/SVG/1.1/DTD/svg11.dtd\">\n<!-- Generated by graphviz version 2.43.0 (0)\n -->\n<!-- Title: %3 Pages: 1 -->\n<svg width=\"234pt\" height=\"260pt\"\n viewBox=\"0.00 0.00 234.00 259.91\" xmlns=\"http://www.w3.org/2000/svg\" xmlns:xlink=\"http://www.w3.org/1999/xlink\">\n<g id=\"graph0\" class=\"graph\" transform=\"scale(1 1) rotate(0) translate(4 255.91)\">\n<title>%3</title>\n<polygon fill=\"white\" stroke=\"transparent\" points=\"-4,4 -4,-255.91 230,-255.91 230,4 -4,4\"/>\n<g id=\"clust1\" class=\"cluster\">\n<title>cluster2</title>\n<path fill=\"none\" stroke=\"black\" d=\"M20,-129.95C20,-129.95 206,-129.95 206,-129.95 212,-129.95 218,-135.95 218,-141.95 218,-141.95 218,-231.91 218,-231.91 218,-237.91 212,-243.91 206,-243.91 206,-243.91 20,-243.91 20,-243.91 14,-243.91 8,-237.91 8,-231.91 8,-231.91 8,-141.95 8,-141.95 8,-135.95 14,-129.95 20,-129.95\"/>\n<text text-anchor=\"middle\" x=\"206.5\" y=\"-137.75\" font-family=\"Times,serif\" font-size=\"14.00\">2</text>\n</g>\n<g id=\"clust2\" class=\"cluster\">\n<title>cluster2185</title>\n<path fill=\"none\" stroke=\"black\" d=\"M58,-8C58,-8 162,-8 162,-8 168,-8 174,-14 174,-20 174,-20 174,-109.95 174,-109.95 174,-115.95 168,-121.95 162,-121.95 162,-121.95 58,-121.95 58,-121.95 52,-121.95 46,-115.95 46,-109.95 46,-109.95 46,-20 46,-20 46,-14 52,-8 58,-8\"/>\n<text text-anchor=\"middle\" x=\"152\" y=\"-15.8\" font-family=\"Times,serif\" font-size=\"14.00\">2185</text>\n</g>\n<!-- alpha -->\n<g id=\"node1\" class=\"node\">\n<title>alpha</title>\n<ellipse fill=\"none\" stroke=\"black\" cx=\"168\" cy=\"-198.43\" rx=\"41.94\" ry=\"37.45\"/>\n<text text-anchor=\"middle\" x=\"168\" y=\"-209.73\" font-family=\"Times,serif\" font-size=\"14.00\">alpha</text>\n<text text-anchor=\"middle\" x=\"168\" y=\"-194.73\" font-family=\"Times,serif\" font-size=\"14.00\">~</text>\n<text text-anchor=\"middle\" x=\"168\" y=\"-179.73\" font-family=\"Times,serif\" font-size=\"14.00\">Normal</text>\n</g>\n<!-- y_obs -->\n<g id=\"node3\" class=\"node\">\n<title>y_obs</title>\n<ellipse fill=\"lightgrey\" stroke=\"black\" cx=\"110\" cy=\"-76.48\" rx=\"55.72\" ry=\"37.45\"/>\n<text text-anchor=\"middle\" x=\"110\" y=\"-87.78\" font-family=\"Times,serif\" font-size=\"14.00\">y_obs</text>\n<text text-anchor=\"middle\" x=\"110\" y=\"-72.78\" font-family=\"Times,serif\" font-size=\"14.00\">~</text>\n<text text-anchor=\"middle\" x=\"110\" y=\"-57.78\" font-family=\"Times,serif\" font-size=\"14.00\">Categorical</text>\n</g>\n<!-- alpha&#45;&gt;y_obs -->\n<g id=\"edge1\" class=\"edge\">\n<title>alpha&#45;&gt;y_obs</title>\n<path fill=\"none\" stroke=\"black\" d=\"M151.69,-163.7C145.43,-150.75 138.18,-135.76 131.51,-121.96\"/>\n<polygon fill=\"black\" stroke=\"black\" points=\"134.5,-120.11 127,-112.63 128.2,-123.15 134.5,-120.11\"/>\n</g>\n<!-- beta_age -->\n<g id=\"node2\" class=\"node\">\n<title>beta_age</title>\n<ellipse fill=\"none\" stroke=\"black\" cx=\"62\" cy=\"-198.43\" rx=\"45.92\" ry=\"37.45\"/>\n<text text-anchor=\"middle\" x=\"62\" y=\"-209.73\" font-family=\"Times,serif\" font-size=\"14.00\">beta_age</text>\n<text text-anchor=\"middle\" x=\"62\" y=\"-194.73\" font-family=\"Times,serif\" font-size=\"14.00\">~</text>\n<text text-anchor=\"middle\" x=\"62\" y=\"-179.73\" font-family=\"Times,serif\" font-size=\"14.00\">Normal</text>\n</g>\n<!-- beta_age&#45;&gt;y_obs -->\n<g id=\"edge2\" class=\"edge\">\n<title>beta_age&#45;&gt;y_obs</title>\n<path fill=\"none\" stroke=\"black\" d=\"M76.01,-162.41C81.04,-149.84 86.79,-135.48 92.11,-122.19\"/>\n<polygon fill=\"black\" stroke=\"black\" points=\"95.42,-123.33 95.89,-112.75 88.92,-120.73 95.42,-123.33\"/>\n</g>\n</g>\n</svg>\n",
            "text/plain": [
              "<graphviz.graphs.Digraph at 0x789401097350>"
            ]
          },
          "metadata": {},
          "execution_count": 19
        }
      ],
      "source": [
        "pm.model_to_graphviz(categorical_model)"
      ]
    },
    {
      "cell_type": "markdown",
      "id": "a66453fd",
      "metadata": {
        "id": "a66453fd"
      },
      "source": [
        "Here's how we can sample it."
      ]
    },
    {
      "cell_type": "code",
      "execution_count": 20,
      "id": "d1fc5464",
      "metadata": {
        "colab": {
          "base_uri": "https://localhost:8080/",
          "height": 132,
          "referenced_widgets": [
            "084b87dbd63844c9806d919d77a7d07b",
            "ab3bb496766e45b0adf8a570377b8a5a"
          ]
        },
        "id": "d1fc5464",
        "outputId": "36dde85f-c91c-4048-a200-1fe1eeb6c701"
      },
      "outputs": [
        {
          "output_type": "display_data",
          "data": {
            "text/plain": [
              "Output()"
            ],
            "application/vnd.jupyter.widget-view+json": {
              "version_major": 2,
              "version_minor": 0,
              "model_id": "084b87dbd63844c9806d919d77a7d07b"
            }
          },
          "metadata": {}
        },
        {
          "output_type": "display_data",
          "data": {
            "text/plain": [],
            "text/html": [
              "<pre style=\"white-space:pre;overflow-x:auto;line-height:normal;font-family:Menlo,'DejaVu Sans Mono',consolas,'Courier New',monospace\"></pre>\n"
            ]
          },
          "metadata": {}
        },
        {
          "output_type": "stream",
          "name": "stdout",
          "text": [
            "Saved new idata to categorical_model_idata.nc\n"
          ]
        }
      ],
      "source": [
        "filename = 'categorical_model_idata.nc'\n",
        "idata_categorical = load_idata_or_sample(categorical_model, filename, draws=500, tune=500)"
      ]
    },
    {
      "cell_type": "markdown",
      "id": "4619db52",
      "metadata": {
        "id": "4619db52"
      },
      "source": [
        "The traces and diagnostic summary look good."
      ]
    },
    {
      "cell_type": "code",
      "execution_count": 21,
      "id": "40880262",
      "metadata": {
        "colab": {
          "base_uri": "https://localhost:8080/",
          "height": 309
        },
        "id": "40880262",
        "outputId": "651aa551-d7af-49c8-c7e4-80e5b3e52251"
      },
      "outputs": [
        {
          "output_type": "display_data",
          "data": {
            "text/plain": [
              "<Figure size 900x300 with 4 Axes>"
            ],
            "image/png": "[encoded data removed]"
          },
          "metadata": {}
        }
      ],
      "source": [
        "az.plot_trace(idata_categorical)\n",
        "decorate()"
      ]
    },
    {
      "cell_type": "code",
      "execution_count": 22,
      "id": "ab460206",
      "metadata": {
        "colab": {
          "base_uri": "https://localhost:8080/",
          "height": 174
        },
        "id": "ab460206",
        "outputId": "9568ccae-341c-40e1-9fbc-a801d59635fe"
      },
      "outputs": [
        {
          "output_type": "execute_result",
          "data": {
            "text/plain": [
              "              mean     sd  hdi_3%  hdi_97%  mcse_mean  mcse_sd  ess_bulk  \\\n",
              "alpha[0]     2.479  0.111   2.298    2.699      0.005    0.004     540.0   \n",
              "alpha[1]     2.212  0.113   2.008    2.419      0.005    0.004     520.0   \n",
              "beta_age[0]  0.002  0.006  -0.009    0.014      0.000    0.000     511.0   \n",
              "beta_age[1]  0.010  0.006  -0.002    0.021      0.000    0.000     527.0   \n",
              "\n",
              "             ess_tail  r_hat  \n",
              "alpha[0]        374.0   1.01  \n",
              "alpha[1]        352.0   1.00  \n",
              "beta_age[0]     456.0   1.00  \n",
              "beta_age[1]     474.0   1.00  "
            ],
            "text/html": [
              "\n",
              "  <div id=\"df-ec9ade0e-4125-44d6-b86b-d2cf9664b4bf\" class=\"colab-df-container\">\n",
              "    <div>\n",
              "<style scoped>\n",
              "    .dataframe tbody tr th:only-of-type {\n",
              "        vertical-align: middle;\n",
              "    }\n",
              "\n",
              "    .dataframe tbody tr th {\n",
              "        vertical-align: top;\n",
              "    }\n",
              "\n",
              "    .dataframe thead th {\n",
              "        text-align: right;\n",
              "    }\n",
              "</style>\n",
              "<table border=\"1\" class=\"dataframe\">\n",
              "  <thead>\n",
              "    <tr style=\"text-align: right;\">\n",
              "      <th></th>\n",
              "      <th>mean</th>\n",
              "      <th>sd</th>\n",
              "      <th>hdi_3%</th>\n",
              "      <th>hdi_97%</th>\n",
              "      <th>mcse_mean</th>\n",
              "      <th>mcse_sd</th>\n",
              "      <th>ess_bulk</th>\n",
              "      <th>ess_tail</th>\n",
              "      <th>r_hat</th>\n",
              "    </tr>\n",
              "  </thead>\n",
              "  <tbody>\n",
              "    <tr>\n",
              "      <th>alpha[0]</th>\n",
              "      <td>2.479</td>\n",
              "      <td>0.111</td>\n",
              "      <td>2.298</td>\n",
              "      <td>2.699</td>\n",
              "      <td>0.005</td>\n",
              "      <td>0.004</td>\n",
              "      <td>540.0</td>\n",
              "      <td>374.0</td>\n",
              "      <td>1.01</td>\n",
              "    </tr>\n",
              "    <tr>\n",
              "      <th>alpha[1]</th>\n",
              "      <td>2.212</td>\n",
              "      <td>0.113</td>\n",
              "      <td>2.008</td>\n",
              "      <td>2.419</td>\n",
              "      <td>0.005</td>\n",
              "      <td>0.004</td>\n",
              "      <td>520.0</td>\n",
              "      <td>352.0</td>\n",
              "      <td>1.00</td>\n",
              "    </tr>\n",
              "    <tr>\n",
              "      <th>beta_age[0]</th>\n",
              "      <td>0.002</td>\n",
              "      <td>0.006</td>\n",
              "      <td>-0.009</td>\n",
              "      <td>0.014</td>\n",
              "      <td>0.000</td>\n",
              "      <td>0.000</td>\n",
              "      <td>511.0</td>\n",
              "      <td>456.0</td>\n",
              "      <td>1.00</td>\n",
              "    </tr>\n",
              "    <tr>\n",
              "      <th>beta_age[1]</th>\n",
              "      <td>0.010</td>\n",
              "      <td>0.006</td>\n",
              "      <td>-0.002</td>\n",
              "      <td>0.021</td>\n",
              "      <td>0.000</td>\n",
              "      <td>0.000</td>\n",
              "      <td>527.0</td>\n",
              "      <td>474.0</td>\n",
              "      <td>1.00</td>\n",
              "    </tr>\n",
              "  </tbody>\n",
              "</table>\n",
              "</div>\n",
              "    <div class=\"colab-df-buttons\">\n",
              "\n",
              "  <div class=\"colab-df-container\">\n",
              "    <button class=\"colab-df-convert\" onclick=\"convertToInteractive('df-ec9ade0e-4125-44d6-b86b-d2cf9664b4bf')\"\n",
              "            title=\"Convert this dataframe to an interactive table.\"\n",
              "            style=\"display:none;\">\n",
              "\n",
              "  <svg xmlns=\"http://www.w3.org/2000/svg\" height=\"24px\" viewBox=\"0 -960 960 960\">\n",
              "    <path d=\"M120-120v-720h720v720H120Zm60-500h600v-160H180v160Zm220 220h160v-160H400v160Zm0 220h160v-160H400v160ZM180-400h160v-160H180v160Zm440 0h160v-160H620v160ZM180-180h160v-160H180v160Zm440 0h160v-160H620v160Z\"/>\n",
              "  </svg>\n",
              "    </button>\n",
              "\n",
              "  <style>\n",
              "    .colab-df-container {\n",
              "      display:flex;\n",
              "      gap: 12px;\n",
              "    }\n",
              "\n",
              "    .colab-df-convert {\n",
              "      background-color: #E8F0FE;\n",
              "      border: none;\n",
              "      border-radius: 50%;\n",
              "      cursor: pointer;\n",
              "      display: none;\n",
              "      fill: #1967D2;\n",
              "      height: 32px;\n",
              "      padding: 0 0 0 0;\n",
              "      width: 32px;\n",
              "    }\n",
              "\n",
              "    .colab-df-convert:hover {\n",
              "      background-color: #E2EBFA;\n",
              "      box-shadow: 0px 1px 2px rgba(60, 64, 67, 0.3), 0px 1px 3px 1px rgba(60, 64, 67, 0.15);\n",
              "      fill: #174EA6;\n",
              "    }\n",
              "\n",
              "    .colab-df-buttons div {\n",
              "      margin-bottom: 4px;\n",
              "    }\n",
              "\n",
              "    [theme=dark] .colab-df-convert {\n",
              "      background-color: #3B4455;\n",
              "      fill: #D2E3FC;\n",
              "    }\n",
              "\n",
              "    [theme=dark] .colab-df-convert:hover {\n",
              "      background-color: #434B5C;\n",
              "      box-shadow: 0px 1px 3px 1px rgba(0, 0, 0, 0.15);\n",
              "      filter: drop-shadow(0px 1px 2px rgba(0, 0, 0, 0.3));\n",
              "      fill: #FFFFFF;\n",
              "    }\n",
              "  </style>\n",
              "\n",
              "    <script>\n",
              "      const buttonEl =\n",
              "        document.querySelector('#df-ec9ade0e-4125-44d6-b86b-d2cf9664b4bf button.colab-df-convert');\n",
              "      buttonEl.style.display =\n",
              "        google.colab.kernel.accessAllowed ? 'block' : 'none';\n",
              "\n",
              "      async function convertToInteractive(key) {\n",
              "        const element = document.querySelector('#df-ec9ade0e-4125-44d6-b86b-d2cf9664b4bf');\n",
              "        const dataTable =\n",
              "          await google.colab.kernel.invokeFunction('convertToInteractive',\n",
              "                                                    [key], {});\n",
              "        if (!dataTable) return;\n",
              "\n",
              "        const docLinkHtml = 'Like what you see? Visit the ' +\n",
              "          '<a target=\"_blank\" href=https://colab.research.google.com/notebooks/data_table.ipynb>data table notebook</a>'\n",
              "          + ' to learn more about interactive tables.';\n",
              "        element.innerHTML = '';\n",
              "        dataTable['output_type'] = 'display_data';\n",
              "        await google.colab.output.renderOutput(dataTable, element);\n",
              "        const docLink = document.createElement('div');\n",
              "        docLink.innerHTML = docLinkHtml;\n",
              "        element.appendChild(docLink);\n",
              "      }\n",
              "    </script>\n",
              "  </div>\n",
              "\n",
              "\n",
              "    <div id=\"df-efaab298-e15e-45aa-8270-ee96a3db6f96\">\n",
              "      <button class=\"colab-df-quickchart\" onclick=\"quickchart('df-efaab298-e15e-45aa-8270-ee96a3db6f96')\"\n",
              "                title=\"Suggest charts\"\n",
              "                style=\"display:none;\">\n",
              "\n",
              "<svg xmlns=\"http://www.w3.org/2000/svg\" height=\"24px\"viewBox=\"0 0 24 24\"\n",
              "     width=\"24px\">\n",
              "    <g>\n",
              "        <path d=\"M19 3H5c-1.1 0-2 .9-2 2v14c0 1.1.9 2 2 2h14c1.1 0 2-.9 2-2V5c0-1.1-.9-2-2-2zM9 17H7v-7h2v7zm4 0h-2V7h2v10zm4 0h-2v-4h2v4z\"/>\n",
              "    </g>\n",
              "</svg>\n",
              "      </button>\n",
              "\n",
              "<style>\n",
              "  .colab-df-quickchart {\n",
              "      --bg-color: #E8F0FE;\n",
              "      --fill-color: #1967D2;\n",
              "      --hover-bg-color: #E2EBFA;\n",
              "      --hover-fill-color: #174EA6;\n",
              "      --disabled-fill-color: #AAA;\n",
              "      --disabled-bg-color: #DDD;\n",
              "  }\n",
              "\n",
              "  [theme=dark] .colab-df-quickchart {\n",
              "      --bg-color: #3B4455;\n",
              "      --fill-color: #D2E3FC;\n",
              "      --hover-bg-color: #434B5C;\n",
              "      --hover-fill-color: #FFFFFF;\n",
              "      --disabled-bg-color: #3B4455;\n",
              "      --disabled-fill-color: #666;\n",
              "  }\n",
              "\n",
              "  .colab-df-quickchart {\n",
              "    background-color: var(--bg-color);\n",
              "    border: none;\n",
              "    border-radius: 50%;\n",
              "    cursor: pointer;\n",
              "    display: none;\n",
              "    fill: var(--fill-color);\n",
              "    height: 32px;\n",
              "    padding: 0;\n",
              "    width: 32px;\n",
              "  }\n",
              "\n",
              "  .colab-df-quickchart:hover {\n",
              "    background-color: var(--hover-bg-color);\n",
              "    box-shadow: 0 1px 2px rgba(60, 64, 67, 0.3), 0 1px 3px 1px rgba(60, 64, 67, 0.15);\n",
              "    fill: var(--button-hover-fill-color);\n",
              "  }\n",
              "\n",
              "  .colab-df-quickchart-complete:disabled,\n",
              "  .colab-df-quickchart-complete:disabled:hover {\n",
              "    background-color: var(--disabled-bg-color);\n",
              "    fill: var(--disabled-fill-color);\n",
              "    box-shadow: none;\n",
              "  }\n",
              "\n",
              "  .colab-df-spinner {\n",
              "    border: 2px solid var(--fill-color);\n",
              "    border-color: transparent;\n",
              "    border-bottom-color: var(--fill-color);\n",
              "    animation:\n",
              "      spin 1s steps(1) infinite;\n",
              "  }\n",
              "\n",
              "  @keyframes spin {\n",
              "    0% {\n",
              "      border-color: transparent;\n",
              "      border-bottom-color: var(--fill-color);\n",
              "      border-left-color: var(--fill-color);\n",
              "    }\n",
              "    20% {\n",
              "      border-color: transparent;\n",
              "      border-left-color: var(--fill-color);\n",
              "      border-top-color: var(--fill-color);\n",
              "    }\n",
              "    30% {\n",
              "      border-color: transparent;\n",
              "      border-left-color: var(--fill-color);\n",
              "      border-top-color: var(--fill-color);\n",
              "      border-right-color: var(--fill-color);\n",
              "    }\n",
              "    40% {\n",
              "      border-color: transparent;\n",
              "      border-right-color: var(--fill-color);\n",
              "      border-top-color: var(--fill-color);\n",
              "    }\n",
              "    60% {\n",
              "      border-color: transparent;\n",
              "      border-right-color: var(--fill-color);\n",
              "    }\n",
              "    80% {\n",
              "      border-color: transparent;\n",
              "      border-right-color: var(--fill-color);\n",
              "      border-bottom-color: var(--fill-color);\n",
              "    }\n",
              "    90% {\n",
              "      border-color: transparent;\n",
              "      border-bottom-color: var(--fill-color);\n",
              "    }\n",
              "  }\n",
              "</style>\n",
              "\n",
              "      <script>\n",
              "        async function quickchart(key) {\n",
              "          const quickchartButtonEl =\n",
              "            document.querySelector('#' + key + ' button');\n",
              "          quickchartButtonEl.disabled = true;  // To prevent multiple clicks.\n",
              "          quickchartButtonEl.classList.add('colab-df-spinner');\n",
              "          try {\n",
              "            const charts = await google.colab.kernel.invokeFunction(\n",
              "                'suggestCharts', [key], {});\n",
              "          } catch (error) {\n",
              "            console.error('Error during call to suggestCharts:', error);\n",
              "          }\n",
              "          quickchartButtonEl.classList.remove('colab-df-spinner');\n",
              "          quickchartButtonEl.classList.add('colab-df-quickchart-complete');\n",
              "        }\n",
              "        (() => {\n",
              "          let quickchartButtonEl =\n",
              "            document.querySelector('#df-efaab298-e15e-45aa-8270-ee96a3db6f96 button');\n",
              "          quickchartButtonEl.style.display =\n",
              "            google.colab.kernel.accessAllowed ? 'block' : 'none';\n",
              "        })();\n",
              "      </script>\n",
              "    </div>\n",
              "\n",
              "    </div>\n",
              "  </div>\n"
            ],
            "application/vnd.google.colaboratory.intrinsic+json": {
              "type": "dataframe",
              "summary": "{\n  \"name\": \"az\",\n  \"rows\": 4,\n  \"fields\": [\n    {\n      \"column\": \"mean\",\n      \"properties\": {\n        \"dtype\": \"number\",\n        \"std\": 1.3551059921644506,\n        \"min\": 0.002,\n        \"max\": 2.479,\n        \"num_unique_values\": 4,\n        \"samples\": [\n          2.212,\n          0.01,\n          2.479\n        ],\n        \"semantic_type\": \"\",\n        \"description\": \"\"\n      }\n    },\n    {\n      \"column\": \"sd\",\n      \"properties\": {\n        \"dtype\": \"number\",\n        \"std\": 0.061204574992397426,\n        \"min\": 0.006,\n        \"max\": 0.113,\n        \"num_unique_values\": 3,\n        \"samples\": [\n          0.111,\n          0.113,\n          0.006\n        ],\n        \"semantic_type\": \"\",\n        \"description\": \"\"\n      }\n    },\n    {\n      \"column\": \"hdi_3%\",\n      \"properties\": {\n        \"dtype\": \"number\",\n        \"std\": 1.2518249012275373,\n        \"min\": -0.009,\n        \"max\": 2.298,\n        \"num_unique_values\": 4,\n        \"samples\": [\n          2.008,\n          -0.002,\n          2.298\n        ],\n        \"semantic_type\": \"\",\n        \"description\": \"\"\n      }\n    },\n    {\n      \"column\": \"hdi_97%\",\n      \"properties\": {\n        \"dtype\": \"number\",\n        \"std\": 1.4717842629497933,\n        \"min\": 0.014,\n        \"max\": 2.699,\n        \"num_unique_values\": 4,\n        \"samples\": [\n          2.419,\n          0.021,\n          2.699\n        ],\n        \"semantic_type\": \"\",\n        \"description\": \"\"\n      }\n    },\n    {\n      \"column\": \"mcse_mean\",\n      \"properties\": {\n        \"dtype\": \"number\",\n        \"std\": 0.002886751345948129,\n        \"min\": 0.0,\n        \"max\": 0.005,\n        \"num_unique_values\": 2,\n        \"samples\": [\n          0.0,\n          0.005\n        ],\n        \"semantic_type\": \"\",\n        \"description\": \"\"\n      }\n    },\n    {\n      \"column\": \"mcse_sd\",\n      \"properties\": {\n        \"dtype\": \"number\",\n        \"std\": 0.0023094010767585028,\n        \"min\": 0.0,\n        \"max\": 0.004,\n        \"num_unique_values\": 2,\n        \"samples\": [\n          0.0,\n          0.004\n        ],\n        \"semantic_type\": \"\",\n        \"description\": \"\"\n      }\n    },\n    {\n      \"column\": \"ess_bulk\",\n      \"properties\": {\n        \"dtype\": \"number\",\n        \"std\": 12.233832869001711,\n        \"min\": 511.0,\n        \"max\": 540.0,\n        \"num_unique_values\": 4,\n        \"samples\": [\n          520.0,\n          527.0\n        ],\n        \"semantic_type\": \"\",\n        \"description\": \"\"\n      }\n    },\n    {\n      \"column\": \"ess_tail\",\n      \"properties\": {\n        \"dtype\": \"number\",\n        \"std\": 60.02221810851933,\n        \"min\": 352.0,\n        \"max\": 474.0,\n        \"num_unique_values\": 4,\n        \"samples\": [\n          352.0,\n          474.0\n        ],\n        \"semantic_type\": \"\",\n        \"description\": \"\"\n      }\n    },\n    {\n      \"column\": \"r_hat\",\n      \"properties\": {\n        \"dtype\": \"number\",\n        \"std\": 0.0050000000000000044,\n        \"min\": 1.0,\n        \"max\": 1.01,\n        \"num_unique_values\": 2,\n        \"samples\": [\n          1.0,\n          1.01\n        ],\n        \"semantic_type\": \"\",\n        \"description\": \"\"\n      }\n    }\n  ]\n}"
            }
          },
          "metadata": {},
          "execution_count": 22
        }
      ],
      "source": [
        "az.summary(idata_categorical)"
      ]
    },
    {
      "cell_type": "markdown",
      "id": "ce9c60fa",
      "metadata": {
        "id": "ce9c60fa"
      },
      "source": [
        "And here's what the posterior distribution looks like."
      ]
    },
    {
      "cell_type": "code",
      "execution_count": 23,
      "id": "ef79a402",
      "metadata": {
        "colab": {
          "base_uri": "https://localhost:8080/",
          "height": 311
        },
        "id": "ef79a402",
        "outputId": "0e284f5c-2f9c-47df-decb-e63856fb80a8"
      },
      "outputs": [
        {
          "output_type": "display_data",
          "data": {
            "text/plain": [
              "<Figure size 1035x301.875 with 2 Axes>"
            ],
            "image/png": "[encoded data removed]"
          },
          "metadata": {}
        }
      ],
      "source": [
        "az.plot_posterior(idata_categorical, var_names=[\"alpha\"])\n",
        "decorate()"
      ]
    },
    {
      "cell_type": "code",
      "execution_count": 24,
      "id": "f1a51f36",
      "metadata": {
        "scrolled": true,
        "colab": {
          "base_uri": "https://localhost:8080/",
          "height": 311
        },
        "id": "f1a51f36",
        "outputId": "99e754cf-0aec-4d96-f1fe-e8672b43592e"
      },
      "outputs": [
        {
          "output_type": "display_data",
          "data": {
            "text/plain": [
              "<Figure size 1035x301.875 with 2 Axes>"
            ],
            "image/png": "[encoded data removed]"
          },
          "metadata": {}
        }
      ],
      "source": [
        "az.plot_posterior(idata_categorical, var_names=[\"beta_age\"])\n",
        "decorate()"
      ]
    },
    {
      "cell_type": "markdown",
      "id": "81849d05",
      "metadata": {
        "id": "81849d05"
      },
      "source": [
        "The posterior distribution contains two values for `alpha` and `beta_age`, one for Biden relative to Other and one for Trump relative to Other."
      ]
    },
    {
      "cell_type": "markdown",
      "id": "878682f7",
      "metadata": {
        "id": "878682f7"
      },
      "source": [
        "## Interpreting the results\n",
        "\n",
        "We can use `az.extract` to combine the chains and select a random subsample of the posterior samples."
      ]
    },
    {
      "cell_type": "code",
      "execution_count": 25,
      "id": "bed56f6a",
      "metadata": {
        "colab": {
          "base_uri": "https://localhost:8080/"
        },
        "id": "bed56f6a",
        "outputId": "2d9af687-3baf-4bdd-ea6b-29af625d7d6c"
      },
      "outputs": [
        {
          "output_type": "execute_result",
          "data": {
            "text/plain": [
              "(2, 100)"
            ]
          },
          "metadata": {},
          "execution_count": 25
        }
      ],
      "source": [
        "# Collect posterior draws of alpha and beta\n",
        "n_samples = 100\n",
        "samples = az.extract(idata_categorical,\n",
        "                     var_names=[\"alpha\", \"beta_age\"],\n",
        "                     num_samples=n_samples)\n",
        "\n",
        "alpha = samples[\"alpha\"].to_numpy()\n",
        "alpha.shape"
      ]
    },
    {
      "cell_type": "code",
      "execution_count": 26,
      "id": "2c0d8798",
      "metadata": {
        "colab": {
          "base_uri": "https://localhost:8080/"
        },
        "id": "2c0d8798",
        "outputId": "f8361927-34d1-4a55-9c26-9a47ca07231d"
      },
      "outputs": [
        {
          "output_type": "execute_result",
          "data": {
            "text/plain": [
              "(2, 100)"
            ]
          },
          "metadata": {},
          "execution_count": 26
        }
      ],
      "source": [
        "beta_age = samples[\"beta_age\"].to_numpy()\n",
        "beta_age.shape"
      ]
    },
    {
      "cell_type": "markdown",
      "id": "e06ce2a6",
      "metadata": {
        "id": "e06ce2a6"
      },
      "source": [
        "Now, to visualize the results, we'll evaluate the regression equation over a range of ages."
      ]
    },
    {
      "cell_type": "code",
      "execution_count": 27,
      "id": "280080f8",
      "metadata": {
        "id": "280080f8"
      },
      "outputs": [],
      "source": [
        "# Center the age range\n",
        "pred_age_range = np.arange(18, 95)\n",
        "pred_age_centered = pred_age_range - age_shift\n",
        "n_ages = len(pred_age_range)"
      ]
    },
    {
      "cell_type": "markdown",
      "id": "abe3d874",
      "metadata": {
        "id": "abe3d874"
      },
      "source": [
        "To evaluate the predictive probabilities for each age, we'll implement the model in NumPy."
      ]
    },
    {
      "cell_type": "code",
      "execution_count": 28,
      "id": "f27dfc3b",
      "metadata": {
        "id": "f27dfc3b"
      },
      "outputs": [],
      "source": [
        "from scipy.special import softmax\n",
        "\n",
        "predicted_probs = np.zeros((n_samples, n_ages, 3))\n",
        "\n",
        "for i in range(n_samples):\n",
        "    logit_other = np.zeros(n_ages)  # Fixed at zero for reference category\n",
        "    logit_biden = alpha[0, i] + beta_age[0, i] * pred_age_centered\n",
        "    logit_trump = alpha[1, i] + beta_age[1, i] * pred_age_centered\n",
        "\n",
        "    logits = np.stack([logit_other, logit_biden, logit_trump], axis=1)\n",
        "\n",
        "    # Softmax to get probabilities for all candidates at each age\n",
        "    predicted_probs[i] = softmax(logits, axis=1)"
      ]
    },
    {
      "cell_type": "markdown",
      "id": "8a5dc356",
      "metadata": {
        "id": "8a5dc356"
      },
      "source": [
        "Here's what the result look like."
      ]
    },
    {
      "cell_type": "code",
      "execution_count": 29,
      "id": "65e84754",
      "metadata": {
        "colab": {
          "base_uri": "https://localhost:8080/",
          "height": 272
        },
        "id": "65e84754",
        "outputId": "1168d712-2213-43cb-d03d-f85774c2f459"
      },
      "outputs": [
        {
          "output_type": "display_data",
          "data": {
            "text/plain": [
              "<Figure size 450x262.5 with 1 Axes>"
            ],
            "image/png": "[encoded data removed]"
          },
          "metadata": {}
        }
      ],
      "source": [
        "table.plot(color=colors)\n",
        "\n",
        "for i, name in vote_map.items():\n",
        "    mean_prob = predicted_probs[:, :, i].mean(axis=0)\n",
        "    hdi_low, hdi_high = np.percentile(predicted_probs[:, :, i], [5, 95], axis=0)\n",
        "\n",
        "    plt.plot(pred_age_range, mean_prob * 100, color=colors[i], alpha=0.3)\n",
        "    plt.fill_between(pred_age_range,\n",
        "                     hdi_low * 100,\n",
        "                     hdi_high * 100,\n",
        "                     color=colors[i],\n",
        "                     alpha=0.2,\n",
        "                     lw=0)\n",
        "\n",
        "decorate(ylabel=\"percent\", title=\"Percent voting for each candidate\")"
      ]
    },
    {
      "cell_type": "markdown",
      "id": "a6a43936",
      "metadata": {
        "id": "a6a43936"
      },
      "source": [
        "It looks like the regression model does a good job of capturing the trends in the data.\n",
        "\n",
        "We can use these results to estimate the crossover point -- the age below which people were more likely to vote for Biden."
      ]
    },
    {
      "cell_type": "markdown",
      "id": "9cc3812e",
      "metadata": {
        "id": "9cc3812e"
      },
      "source": [
        "## Adding a categorical predictor\n",
        "\n",
        "Now let's see what the interaction looks like between age and gender.\n",
        "\n",
        "[Note from GSS documentation](https://sda.berkeley.edu/sdaweb/docs/gss21/DOC/2021XSECR1MethodologicalPrimer.pdf):\n",
        "\n",
        "> In the past, GSS respondents have not been asked to self-report their sex. Instead, the GSS used a combination of interviewer observation and household rosters for the variable SEX, our standard male/female variable. In 2021, as neither household roster nor interviewer observation were available, respondents were directly asked two questions: their sex assigned at birth and their current gender identity. These two items, SEXBIRTH1 and SEXNOW1, are now the standard way of measuring sex in the GSS]\n",
        "\n",
        "Here is the question and responses.\n",
        "\n",
        "> Do you describe yourself as male, female, or transgender?\n",
        "\n",
        "```\n",
        "1\tMale\n",
        "2\tFemale\n",
        "3\tTransgender\n",
        "4\tNone of these\n",
        "```\n",
        "\n",
        "Here is the distribution of the responses."
      ]
    },
    {
      "cell_type": "code",
      "execution_count": 30,
      "id": "6258988e",
      "metadata": {
        "colab": {
          "base_uri": "https://localhost:8080/",
          "height": 237
        },
        "id": "6258988e",
        "outputId": "7b12711b-cbb2-4ffd-d26e-b9555ec6fd66"
      },
      "outputs": [
        {
          "output_type": "execute_result",
          "data": {
            "text/plain": [
              "        counts\n",
              "values        \n",
              "1.0       3620\n",
              "2.0       3743\n",
              "3.0         19\n",
              "4.0         37\n",
              "NaN      64971"
            ],
            "text/html": [
              "\n",
              "  <div id=\"df-b9d2b9c3-db75-44fe-b2d1-2ab47228125a\" class=\"colab-df-container\">\n",
              "    <div>\n",
              "<style scoped>\n",
              "    .dataframe tbody tr th:only-of-type {\n",
              "        vertical-align: middle;\n",
              "    }\n",
              "\n",
              "    .dataframe tbody tr th {\n",
              "        vertical-align: top;\n",
              "    }\n",
              "\n",
              "    .dataframe thead th {\n",
              "        text-align: right;\n",
              "    }\n",
              "</style>\n",
              "<table border=\"1\" class=\"dataframe\">\n",
              "  <thead>\n",
              "    <tr style=\"text-align: right;\">\n",
              "      <th></th>\n",
              "      <th>counts</th>\n",
              "    </tr>\n",
              "    <tr>\n",
              "      <th>values</th>\n",
              "      <th></th>\n",
              "    </tr>\n",
              "  </thead>\n",
              "  <tbody>\n",
              "    <tr>\n",
              "      <th>1.0</th>\n",
              "      <td>3620</td>\n",
              "    </tr>\n",
              "    <tr>\n",
              "      <th>2.0</th>\n",
              "      <td>3743</td>\n",
              "    </tr>\n",
              "    <tr>\n",
              "      <th>3.0</th>\n",
              "      <td>19</td>\n",
              "    </tr>\n",
              "    <tr>\n",
              "      <th>4.0</th>\n",
              "      <td>37</td>\n",
              "    </tr>\n",
              "    <tr>\n",
              "      <th>NaN</th>\n",
              "      <td>64971</td>\n",
              "    </tr>\n",
              "  </tbody>\n",
              "</table>\n",
              "</div>\n",
              "    <div class=\"colab-df-buttons\">\n",
              "\n",
              "  <div class=\"colab-df-container\">\n",
              "    <button class=\"colab-df-convert\" onclick=\"convertToInteractive('df-b9d2b9c3-db75-44fe-b2d1-2ab47228125a')\"\n",
              "            title=\"Convert this dataframe to an interactive table.\"\n",
              "            style=\"display:none;\">\n",
              "\n",
              "  <svg xmlns=\"http://www.w3.org/2000/svg\" height=\"24px\" viewBox=\"0 -960 960 960\">\n",
              "    <path d=\"M120-120v-720h720v720H120Zm60-500h600v-160H180v160Zm220 220h160v-160H400v160Zm0 220h160v-160H400v160ZM180-400h160v-160H180v160Zm440 0h160v-160H620v160ZM180-180h160v-160H180v160Zm440 0h160v-160H620v160Z\"/>\n",
              "  </svg>\n",
              "    </button>\n",
              "\n",
              "  <style>\n",
              "    .colab-df-container {\n",
              "      display:flex;\n",
              "      gap: 12px;\n",
              "    }\n",
              "\n",
              "    .colab-df-convert {\n",
              "      background-color: #E8F0FE;\n",
              "      border: none;\n",
              "      border-radius: 50%;\n",
              "      cursor: pointer;\n",
              "      display: none;\n",
              "      fill: #1967D2;\n",
              "      height: 32px;\n",
              "      padding: 0 0 0 0;\n",
              "      width: 32px;\n",
              "    }\n",
              "\n",
              "    .colab-df-convert:hover {\n",
              "      background-color: #E2EBFA;\n",
              "      box-shadow: 0px 1px 2px rgba(60, 64, 67, 0.3), 0px 1px 3px 1px rgba(60, 64, 67, 0.15);\n",
              "      fill: #174EA6;\n",
              "    }\n",
              "\n",
              "    .colab-df-buttons div {\n",
              "      margin-bottom: 4px;\n",
              "    }\n",
              "\n",
              "    [theme=dark] .colab-df-convert {\n",
              "      background-color: #3B4455;\n",
              "      fill: #D2E3FC;\n",
              "    }\n",
              "\n",
              "    [theme=dark] .colab-df-convert:hover {\n",
              "      background-color: #434B5C;\n",
              "      box-shadow: 0px 1px 3px 1px rgba(0, 0, 0, 0.15);\n",
              "      filter: drop-shadow(0px 1px 2px rgba(0, 0, 0, 0.3));\n",
              "      fill: #FFFFFF;\n",
              "    }\n",
              "  </style>\n",
              "\n",
              "    <script>\n",
              "      const buttonEl =\n",
              "        document.querySelector('#df-b9d2b9c3-db75-44fe-b2d1-2ab47228125a button.colab-df-convert');\n",
              "      buttonEl.style.display =\n",
              "        google.colab.kernel.accessAllowed ? 'block' : 'none';\n",
              "\n",
              "      async function convertToInteractive(key) {\n",
              "        const element = document.querySelector('#df-b9d2b9c3-db75-44fe-b2d1-2ab47228125a');\n",
              "        const dataTable =\n",
              "          await google.colab.kernel.invokeFunction('convertToInteractive',\n",
              "                                                    [key], {});\n",
              "        if (!dataTable) return;\n",
              "\n",
              "        const docLinkHtml = 'Like what you see? Visit the ' +\n",
              "          '<a target=\"_blank\" href=https://colab.research.google.com/notebooks/data_table.ipynb>data table notebook</a>'\n",
              "          + ' to learn more about interactive tables.';\n",
              "        element.innerHTML = '';\n",
              "        dataTable['output_type'] = 'display_data';\n",
              "        await google.colab.output.renderOutput(dataTable, element);\n",
              "        const docLink = document.createElement('div');\n",
              "        docLink.innerHTML = docLinkHtml;\n",
              "        element.appendChild(docLink);\n",
              "      }\n",
              "    </script>\n",
              "  </div>\n",
              "\n",
              "\n",
              "    <div id=\"df-c42948de-3bc4-4699-b790-8a5340ad354c\">\n",
              "      <button class=\"colab-df-quickchart\" onclick=\"quickchart('df-c42948de-3bc4-4699-b790-8a5340ad354c')\"\n",
              "                title=\"Suggest charts\"\n",
              "                style=\"display:none;\">\n",
              "\n",
              "<svg xmlns=\"http://www.w3.org/2000/svg\" height=\"24px\"viewBox=\"0 0 24 24\"\n",
              "     width=\"24px\">\n",
              "    <g>\n",
              "        <path d=\"M19 3H5c-1.1 0-2 .9-2 2v14c0 1.1.9 2 2 2h14c1.1 0 2-.9 2-2V5c0-1.1-.9-2-2-2zM9 17H7v-7h2v7zm4 0h-2V7h2v10zm4 0h-2v-4h2v4z\"/>\n",
              "    </g>\n",
              "</svg>\n",
              "      </button>\n",
              "\n",
              "<style>\n",
              "  .colab-df-quickchart {\n",
              "      --bg-color: #E8F0FE;\n",
              "      --fill-color: #1967D2;\n",
              "      --hover-bg-color: #E2EBFA;\n",
              "      --hover-fill-color: #174EA6;\n",
              "      --disabled-fill-color: #AAA;\n",
              "      --disabled-bg-color: #DDD;\n",
              "  }\n",
              "\n",
              "  [theme=dark] .colab-df-quickchart {\n",
              "      --bg-color: #3B4455;\n",
              "      --fill-color: #D2E3FC;\n",
              "      --hover-bg-color: #434B5C;\n",
              "      --hover-fill-color: #FFFFFF;\n",
              "      --disabled-bg-color: #3B4455;\n",
              "      --disabled-fill-color: #666;\n",
              "  }\n",
              "\n",
              "  .colab-df-quickchart {\n",
              "    background-color: var(--bg-color);\n",
              "    border: none;\n",
              "    border-radius: 50%;\n",
              "    cursor: pointer;\n",
              "    display: none;\n",
              "    fill: var(--fill-color);\n",
              "    height: 32px;\n",
              "    padding: 0;\n",
              "    width: 32px;\n",
              "  }\n",
              "\n",
              "  .colab-df-quickchart:hover {\n",
              "    background-color: var(--hover-bg-color);\n",
              "    box-shadow: 0 1px 2px rgba(60, 64, 67, 0.3), 0 1px 3px 1px rgba(60, 64, 67, 0.15);\n",
              "    fill: var(--button-hover-fill-color);\n",
              "  }\n",
              "\n",
              "  .colab-df-quickchart-complete:disabled,\n",
              "  .colab-df-quickchart-complete:disabled:hover {\n",
              "    background-color: var(--disabled-bg-color);\n",
              "    fill: var(--disabled-fill-color);\n",
              "    box-shadow: none;\n",
              "  }\n",
              "\n",
              "  .colab-df-spinner {\n",
              "    border: 2px solid var(--fill-color);\n",
              "    border-color: transparent;\n",
              "    border-bottom-color: var(--fill-color);\n",
              "    animation:\n",
              "      spin 1s steps(1) infinite;\n",
              "  }\n",
              "\n",
              "  @keyframes spin {\n",
              "    0% {\n",
              "      border-color: transparent;\n",
              "      border-bottom-color: var(--fill-color);\n",
              "      border-left-color: var(--fill-color);\n",
              "    }\n",
              "    20% {\n",
              "      border-color: transparent;\n",
              "      border-left-color: var(--fill-color);\n",
              "      border-top-color: var(--fill-color);\n",
              "    }\n",
              "    30% {\n",
              "      border-color: transparent;\n",
              "      border-left-color: var(--fill-color);\n",
              "      border-top-color: var(--fill-color);\n",
              "      border-right-color: var(--fill-color);\n",
              "    }\n",
              "    40% {\n",
              "      border-color: transparent;\n",
              "      border-right-color: var(--fill-color);\n",
              "      border-top-color: var(--fill-color);\n",
              "    }\n",
              "    60% {\n",
              "      border-color: transparent;\n",
              "      border-right-color: var(--fill-color);\n",
              "    }\n",
              "    80% {\n",
              "      border-color: transparent;\n",
              "      border-right-color: var(--fill-color);\n",
              "      border-bottom-color: var(--fill-color);\n",
              "    }\n",
              "    90% {\n",
              "      border-color: transparent;\n",
              "      border-bottom-color: var(--fill-color);\n",
              "    }\n",
              "  }\n",
              "</style>\n",
              "\n",
              "      <script>\n",
              "        async function quickchart(key) {\n",
              "          const quickchartButtonEl =\n",
              "            document.querySelector('#' + key + ' button');\n",
              "          quickchartButtonEl.disabled = true;  // To prevent multiple clicks.\n",
              "          quickchartButtonEl.classList.add('colab-df-spinner');\n",
              "          try {\n",
              "            const charts = await google.colab.kernel.invokeFunction(\n",
              "                'suggestCharts', [key], {});\n",
              "          } catch (error) {\n",
              "            console.error('Error during call to suggestCharts:', error);\n",
              "          }\n",
              "          quickchartButtonEl.classList.remove('colab-df-spinner');\n",
              "          quickchartButtonEl.classList.add('colab-df-quickchart-complete');\n",
              "        }\n",
              "        (() => {\n",
              "          let quickchartButtonEl =\n",
              "            document.querySelector('#df-c42948de-3bc4-4699-b790-8a5340ad354c button');\n",
              "          quickchartButtonEl.style.display =\n",
              "            google.colab.kernel.accessAllowed ? 'block' : 'none';\n",
              "        })();\n",
              "      </script>\n",
              "    </div>\n",
              "\n",
              "    </div>\n",
              "  </div>\n"
            ],
            "application/vnd.google.colaboratory.intrinsic+json": {
              "type": "dataframe",
              "summary": "{\n  \"name\": \"value_counts(gss[\\\"sexnow1\\\"])\",\n  \"rows\": 5,\n  \"fields\": [\n    {\n      \"column\": \"values\",\n      \"properties\": {\n        \"dtype\": \"number\",\n        \"std\": 1.2909944487358056,\n        \"min\": 1.0,\n        \"max\": 4.0,\n        \"num_unique_values\": 4,\n        \"samples\": [\n          2.0,\n          4.0,\n          1.0\n        ],\n        \"semantic_type\": \"\",\n        \"description\": \"\"\n      }\n    },\n    {\n      \"column\": \"counts\",\n      \"properties\": {\n        \"dtype\": \"number\",\n        \"std\": 28285,\n        \"min\": 19,\n        \"max\": 64971,\n        \"num_unique_values\": 5,\n        \"samples\": [\n          3743,\n          64971,\n          19\n        ],\n        \"semantic_type\": \"\",\n        \"description\": \"\"\n      }\n    }\n  ]\n}"
            }
          },
          "metadata": {},
          "execution_count": 30
        }
      ],
      "source": [
        "value_counts(gss[\"sexnow1\"])"
      ]
    },
    {
      "cell_type": "code",
      "execution_count": null,
      "id": "9f2a661b",
      "metadata": {
        "id": "9f2a661b"
      },
      "outputs": [],
      "source": [
        "pd.crosstab(gss['sexnow1'], gss['sexbirth1'])"
      ]
    },
    {
      "cell_type": "markdown",
      "id": "ff8f8197",
      "metadata": {
        "id": "ff8f8197"
      },
      "source": [
        "For this example, we will limit the analysis to people who identify as male or female.\n",
        "As an aside, a hierarchical model would be a good way to conduct this analysis with all gender groups."
      ]
    },
    {
      "cell_type": "code",
      "execution_count": null,
      "id": "af17bfba",
      "metadata": {
        "id": "af17bfba"
      },
      "outputs": [],
      "source": [
        "gss['gender2'] = gss['sexnow1'].replace([3, 4], np.nan)"
      ]
    },
    {
      "cell_type": "markdown",
      "id": "bba254c6",
      "metadata": {
        "id": "bba254c6"
      },
      "source": [
        "Now we'll prepare the data for use in the model."
      ]
    },
    {
      "cell_type": "code",
      "execution_count": null,
      "id": "633c1c80",
      "metadata": {
        "id": "633c1c80"
      },
      "outputs": [],
      "source": [
        "data = gss.dropna(subset=[\"y\", \"age\", \"gender2\"])\n",
        "data.shape"
      ]
    },
    {
      "cell_type": "code",
      "execution_count": null,
      "id": "50c99a46",
      "metadata": {
        "id": "50c99a46"
      },
      "outputs": [],
      "source": [
        "y = data[\"y\"].to_numpy()\n",
        "age = data[\"age\"].to_numpy()\n",
        "gender = data[\"gender2\"].to_numpy()"
      ]
    },
    {
      "cell_type": "code",
      "execution_count": null,
      "id": "70ed8433",
      "metadata": {
        "id": "70ed8433"
      },
      "outputs": [],
      "source": [
        "# Center age\n",
        "age_shift = age.mean()\n",
        "age_centered = age - age_shift\n",
        "\n",
        "# Recode gender to 0 = male, 1 = female\n",
        "gender = (gender == 2).astype(int)"
      ]
    },
    {
      "cell_type": "markdown",
      "id": "8bb583bf",
      "metadata": {
        "id": "8bb583bf"
      },
      "source": [
        "And here's the model with gender as an additional categorical predictor."
      ]
    },
    {
      "cell_type": "code",
      "execution_count": null,
      "id": "0c29ec21",
      "metadata": {
        "id": "0c29ec21"
      },
      "outputs": [],
      "source": [
        "# Modify this\n",
        "\n",
        "with pm.Model() as categorical_model:\n",
        "    alpha = pm.Normal(\"alpha\", 0, 1, shape=2)\n",
        "    beta_age = pm.Normal(\"beta_age\", 0, 1, shape=2)\n",
        "\n",
        "    logit_other = np.zeros(len(age))\n",
        "    logit_biden = alpha[0] + beta_age[0] * age_centered\n",
        "    logit_trump = alpha[1] + beta_age[1] * age_centered\n",
        "\n",
        "    logits = pm.math.stack([logit_other, logit_biden, logit_trump], axis=1)\n",
        "\n",
        "    p = pm.math.softmax(logits, axis=1)\n",
        "\n",
        "    y_obs = pm.Categorical(\"y_obs\", p=p, observed=y)"
      ]
    },
    {
      "cell_type": "code",
      "execution_count": null,
      "id": "f3563ad3",
      "metadata": {
        "id": "f3563ad3"
      },
      "outputs": [],
      "source": [
        "# Solution\n",
        "\n",
        "with pm.Model() as categorical_model2:\n",
        "    # Biden, Trump (relative to Other)\n",
        "    alpha = pm.Normal(\"alpha\", 0, 1, shape=2)\n",
        "\n",
        "    # Slopes for age (Biden, Trump)\n",
        "    beta_age = pm.Normal(\"beta_age\", 0, 1, shape=2)\n",
        "\n",
        "    # Slopes for gender (Biden, Trump)\n",
        "    beta_gender = pm.Normal(\"beta_gender\", 0, 1, shape=2)\n",
        "\n",
        "    # Compute logits for each party across all respondents\n",
        "    logit_other = np.zeros(len(age))\n",
        "    logit_biden = alpha[0] + beta_age[0] * age_centered + beta_gender[0] * gender\n",
        "    logit_trump = alpha[1] + beta_age[1] * age_centered + beta_gender[1] * gender\n",
        "\n",
        "    logits = pm.math.stack([logit_other, logit_biden, logit_trump], axis=1)\n",
        "\n",
        "    p = pm.math.softmax(logits, axis=1)\n",
        "\n",
        "    y_obs = pm.Categorical(\"y_obs\", p=p, observed=y)"
      ]
    },
    {
      "cell_type": "code",
      "execution_count": null,
      "id": "edd6dcdb",
      "metadata": {
        "id": "edd6dcdb"
      },
      "outputs": [],
      "source": [
        "pm.model_to_graphviz(categorical_model2)"
      ]
    },
    {
      "cell_type": "code",
      "execution_count": null,
      "id": "2786de1d",
      "metadata": {
        "id": "2786de1d"
      },
      "outputs": [],
      "source": [
        "filename = 'categorical_model2_idata.nc'\n",
        "idata_categorical2 = load_idata_or_sample(categorical_model2,\n",
        "                                          filename, draws=500, tune=500)"
      ]
    },
    {
      "cell_type": "code",
      "execution_count": null,
      "id": "e95e7378",
      "metadata": {
        "id": "e95e7378"
      },
      "outputs": [],
      "source": [
        "az.plot_trace(idata_categorical2)\n",
        "decorate()"
      ]
    },
    {
      "cell_type": "code",
      "execution_count": null,
      "id": "96846604",
      "metadata": {
        "id": "96846604"
      },
      "outputs": [],
      "source": [
        "az.summary(idata_categorical2)"
      ]
    },
    {
      "cell_type": "code",
      "execution_count": null,
      "id": "1e2c2103",
      "metadata": {
        "id": "1e2c2103"
      },
      "outputs": [],
      "source": [
        "az.plot_posterior(idata_categorical2)\n",
        "decorate()"
      ]
    },
    {
      "cell_type": "markdown",
      "id": "5c96ea58",
      "metadata": {
        "id": "5c96ea58"
      },
      "source": [
        "## Plotting the results\n",
        "\n",
        "Again, we'll use `az.extract` to get a sample from the posterior."
      ]
    },
    {
      "cell_type": "code",
      "execution_count": null,
      "id": "52c2615e",
      "metadata": {
        "id": "52c2615e"
      },
      "outputs": [],
      "source": [
        "# Collect posterior draws of alpha and beta\n",
        "n_samples = 100\n",
        "samples = az.extract(idata_categorical2,\n",
        "                     var_names=[\"alpha\", \"beta_age\", \"beta_gender\"],\n",
        "                     num_samples=n_samples)\n",
        "\n",
        "alpha = samples[\"alpha\"].to_numpy()\n",
        "alpha.shape"
      ]
    },
    {
      "cell_type": "code",
      "execution_count": null,
      "id": "519da91a",
      "metadata": {
        "id": "519da91a"
      },
      "outputs": [],
      "source": [
        "beta_age = samples[\"beta_age\"].to_numpy()\n",
        "beta_age.shape"
      ]
    },
    {
      "cell_type": "code",
      "execution_count": null,
      "id": "8fcdf76a",
      "metadata": {
        "id": "8fcdf76a"
      },
      "outputs": [],
      "source": [
        "beta_gender = samples[\"beta_gender\"].to_numpy()\n",
        "beta_gender.shape"
      ]
    },
    {
      "cell_type": "markdown",
      "id": "ac8b335f",
      "metadata": {
        "id": "ac8b335f"
      },
      "source": [
        "With more predictors, it's a little more complicated to plot the results, but there's nothing conceptually new here."
      ]
    },
    {
      "cell_type": "code",
      "execution_count": null,
      "id": "5a9bc478",
      "metadata": {
        "id": "5a9bc478"
      },
      "outputs": [],
      "source": [
        "def compute_predicted_probs(alpha, beta_age, beta_gender, age_centered, gender):\n",
        "    \"\"\"Compute predicted probabilities for a given gender (0=male, 1=female).\n",
        "\n",
        "    alpha: array of shape (2, n_samples)\n",
        "    beta_age: array of shape (2, n_samples)\n",
        "    beta_gender: array of shape (2, n_samples)\n",
        "    age_centered: array of centered ages\n",
        "    gender: 0 for male, 1 for female\n",
        "\n",
        "    returns: array of shape (n_samples, n_ages, 3) with predicted probabilities in percent\n",
        "    \"\"\"\n",
        "    n_samples = alpha.shape[1]\n",
        "    n_ages = len(age_centered)\n",
        "\n",
        "    predicted_probs = np.zeros((n_samples, n_ages, 3))\n",
        "\n",
        "    for i in range(n_samples):\n",
        "        logit_other = np.zeros(n_ages)\n",
        "        logit_biden = (alpha[0, i] +\n",
        "                       beta_age[0, i] * age_centered +\n",
        "                       beta_gender[0, i] * gender)\n",
        "        logit_trump = (alpha[1, i] +\n",
        "                       beta_age[1, i] * age_centered +\n",
        "                       beta_gender[1, i] * gender)\n",
        "\n",
        "        logits = np.stack([logit_other, logit_biden, logit_trump], axis=1)\n",
        "        predicted_probs[i] = softmax(logits, axis=1) * 100\n",
        "\n",
        "    return predicted_probs"
      ]
    },
    {
      "cell_type": "code",
      "execution_count": null,
      "id": "35ad8827",
      "metadata": {
        "id": "35ad8827"
      },
      "outputs": [],
      "source": [
        "predicted_probs_male = compute_predicted_probs(\n",
        "    alpha, beta_age, beta_gender, pred_age_centered, gender=0\n",
        ")\n",
        "predicted_probs_male.shape"
      ]
    },
    {
      "cell_type": "code",
      "execution_count": null,
      "id": "27027c7e",
      "metadata": {
        "id": "27027c7e"
      },
      "outputs": [],
      "source": [
        "predicted_probs_female = compute_predicted_probs(\n",
        "    alpha, beta_age, beta_gender, pred_age_centered, gender=1\n",
        ")\n",
        "predicted_probs_female.shape"
      ]
    },
    {
      "cell_type": "code",
      "execution_count": null,
      "id": "e90c9f7d",
      "metadata": {
        "id": "e90c9f7d"
      },
      "outputs": [],
      "source": [
        "def plot_predictions_by_gender(age_range, predicted_probs, ls=\"-\"):\n",
        "    \"\"\"Plot predicted probabilities for one gender (male or female).\n",
        "\n",
        "    age_range: array of ages to plot\n",
        "    predicted_probs: array of shape (n_samples, n_ages, 3)\n",
        "    ls: string for matplotlib line style\n",
        "    \"\"\"\n",
        "    for i, name in vote_map.items():\n",
        "        probs = predicted_probs[:, :, i]\n",
        "        mean_prob = probs.mean(axis=0)\n",
        "        hdi_low, hdi_high = np.percentile(probs, [5, 95], axis=0)\n",
        "\n",
        "        plt.plot(\n",
        "            age_range,\n",
        "            mean_prob,\n",
        "            color=colors[i],\n",
        "            alpha=0.5,\n",
        "            ls=ls,\n",
        "        )\n",
        "        plt.fill_between(\n",
        "            age_range,\n",
        "            hdi_low,\n",
        "            hdi_high,\n",
        "            color=colors[i],\n",
        "            alpha=0.1,\n",
        "            lw=0,\n",
        "        )"
      ]
    },
    {
      "cell_type": "markdown",
      "id": "6a9780e4",
      "metadata": {
        "id": "6a9780e4"
      },
      "source": [
        "Here's what the results look like."
      ]
    },
    {
      "cell_type": "code",
      "execution_count": null,
      "id": "e94ddddc",
      "metadata": {
        "id": "e94ddddc"
      },
      "outputs": [],
      "source": [
        "table.plot(color=colors)\n",
        "\n",
        "plot_predictions_by_gender(pred_age_range, predicted_probs_male, ls=\"--\")\n",
        "plot_predictions_by_gender(pred_age_range, predicted_probs_female, ls=\"-\")\n",
        "\n",
        "decorate(ylabel=\"percent\", title=\"Percent voting for each candidate by age and gender\")"
      ]
    },
    {
      "cell_type": "markdown",
      "id": "5c74b9e4",
      "metadata": {
        "id": "5c74b9e4"
      },
      "source": [
        "At all ages, women were more likely to vote for Biden and less likely to vote for Trump.\n",
        "For third-party candidate, there is no clear gender gap."
      ]
    },
    {
      "cell_type": "code",
      "execution_count": null,
      "id": "a1850f43",
      "metadata": {
        "id": "a1850f43"
      },
      "outputs": [],
      "source": []
    }
  ],
  "metadata": {
    "kernelspec": {
      "display_name": "Python 3 (ipykernel)",
      "language": "python",
      "name": "python3"
    },
    "language_info": {
      "codemirror_mode": {
        "name": "ipython",
        "version": 3
      },
      "file_extension": ".py",
      "mimetype": "text/x-python",
      "name": "python",
      "nbconvert_exporter": "python",
      "pygments_lexer": "ipython3",
      "version": "3.12.9"
    },
    "colab": {
      "provenance": []
    },
    "widgets": {
      "application/vnd.jupyter.widget-state+json": {
        "084b87dbd63844c9806d919d77a7d07b": {
          "model_module": "@jupyter-widgets/output",
          "model_name": "OutputModel",
          "model_module_version": "1.0.0",
          "state": {
            "_dom_classes": [],
            "_model_module": "@jupyter-widgets/output",
            "_model_module_version": "1.0.0",
            "_model_name": "OutputModel",
            "_view_count": null,
            "_view_module": "@jupyter-widgets/output",
            "_view_module_version": "1.0.0",
            "_view_name": "OutputView",
            "layout": "IPY_MODEL_ab3bb496766e45b0adf8a570377b8a5a",
            "msg_id": "",
            "outputs": [
              {
                "output_type": "display_data",
                "data": {
                  "text/plain": "                                                                                                                   \n \u001b[1m \u001b[0m\u001b[1mProgress                 \u001b[0m\u001b[1m \u001b[0m \u001b[1m \u001b[0m\u001b[1mDraws\u001b[0m\u001b[1m \u001b[0m \u001b[1m \u001b[0m\u001b[1mDivergences\u001b[0m\u001b[1m \u001b[0m \u001b[1m \u001b[0m\u001b[1mStep size\u001b[0m\u001b[1m \u001b[0m \u001b[1m \u001b[0m\u001b[1mGrad evals\u001b[0m\u001b[1m \u001b[0m \u001b[1m \u001b[0m\u001b[1mSampling Speed\u001b[0m\u001b[1m \u001b[0m \u001b[1m \u001b[0m\u001b[1mElapsed\u001b[0m\u001b[1m \u001b[0m \u001b[1m \u001b[0m\u001b[1mRemaining\u001b[0m\u001b[1m \u001b[0m \n ───────────────────────────────────────────────────────────────────────────────────────────────────────────────── \n  \u001b[38;2;31;119;180m━━━━━━━━━━━━━━━━━━━━━━━━━\u001b[0m   1000    0             0.35        15           73.24 draws/s    0:00:13   0:00:00    \n  \u001b[38;2;31;119;180m━━━━━━━━━━━━━━━━━━━━━━━━━\u001b[0m   1000    0             0.42        15           37.21 draws/s    0:00:26   0:00:00    \n                                                                                                                   \n",
                  "text/html": "<pre style=\"white-space:pre;overflow-x:auto;line-height:normal;font-family:Menlo,'DejaVu Sans Mono',consolas,'Courier New',monospace\">                                                                                                                   \n <span style=\"font-weight: bold\"> Progress                  </span> <span style=\"font-weight: bold\"> Draws </span> <span style=\"font-weight: bold\"> Divergences </span> <span style=\"font-weight: bold\"> Step size </span> <span style=\"font-weight: bold\"> Grad evals </span> <span style=\"font-weight: bold\"> Sampling Speed </span> <span style=\"font-weight: bold\"> Elapsed </span> <span style=\"font-weight: bold\"> Remaining </span> \n ───────────────────────────────────────────────────────────────────────────────────────────────────────────────── \n  <span style=\"color: #1f77b4; text-decoration-color: #1f77b4\">━━━━━━━━━━━━━━━━━━━━━━━━━</span>   1000    0             0.35        15           73.24 draws/s    0:00:13   0:00:00    \n  <span style=\"color: #1f77b4; text-decoration-color: #1f77b4\">━━━━━━━━━━━━━━━━━━━━━━━━━</span>   1000    0             0.42        15           37.21 draws/s    0:00:26   0:00:00    \n                                                                                                                   \n</pre>\n"
                },
                "metadata": {}
              }
            ]
          }
        },
        "ab3bb496766e45b0adf8a570377b8a5a": {
          "model_module": "@jupyter-widgets/base",
          "model_name": "LayoutModel",
          "model_module_version": "1.2.0",
          "state": {
            "_model_module": "@jupyter-widgets/base",
            "_model_module_version": "1.2.0",
            "_model_name": "LayoutModel",
            "_view_count": null,
            "_view_module": "@jupyter-widgets/base",
            "_view_module_version": "1.2.0",
            "_view_name": "LayoutView",
            "align_content": null,
            "align_items": null,
            "align_self": null,
            "border": null,
            "bottom": null,
            "display": null,
            "flex": null,
            "flex_flow": null,
            "grid_area": null,
            "grid_auto_columns": null,
            "grid_auto_flow": null,
            "grid_auto_rows": null,
            "grid_column": null,
            "grid_gap": null,
            "grid_row": null,
            "grid_template_areas": null,
            "grid_template_columns": null,
            "grid_template_rows": null,
            "height": null,
            "justify_content": null,
            "justify_items": null,
            "left": null,
            "margin": null,
            "max_height": null,
            "max_width": null,
            "min_height": null,
            "min_width": null,
            "object_fit": null,
            "object_position": null,
            "order": null,
            "overflow": null,
            "overflow_x": null,
            "overflow_y": null,
            "padding": null,
            "right": null,
            "top": null,
            "visibility": null,
            "width": null
          }
        }
      }
    }
  },
  "nbformat": 4,
  "nbformat_minor": 5
}